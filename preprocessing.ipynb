{
 "cells": [
  {
   "cell_type": "markdown",
   "metadata": {},
   "source": [
    "# Preprocessing Pipeline"
   ]
  },
  {
   "cell_type": "markdown",
   "metadata": {},
   "source": [
    "#### To create the dataframes and files needed for our analysis, make sure that:\n",
    "\n",
    "Make sure you have the following files in `data/raw`:\n",
    "  1. [full_database.xml](https://drive.google.com/file/d/1149kYVkazq67e0vuv-_4APyqVX6yyh2p), which will represent the XML version of the DrugBank\n",
    "  2. [BindingDB_All.tsv](https://www.bindingdb.org/bind/downloads/BindingDB_All_202411_tsv.zip), which will represent the tsv version of the BindingDB\n",
    "\n",
    "Make sure you have the following directory created: `data/clean`:"
   ]
  },
  {
   "cell_type": "markdown",
   "metadata": {},
   "source": [
    "### Imports"
   ]
  },
  {
   "cell_type": "code",
   "execution_count": 3,
   "metadata": {},
   "outputs": [
    {
     "name": "stdout",
     "output_type": "stream",
     "text": [
      "The autoreload extension is already loaded. To reload it, use:\n",
      "  %reload_ext autoreload\n"
     ]
    }
   ],
   "source": [
    "import os\n",
    "import gc\n",
    "import re\n",
    "import requests\n",
    "import time\n",
    "import random\n",
    "\n",
    "import numpy as np\n",
    "import pandas as pd\n",
    "\n",
    "import matplotlib.pyplot as plt\n",
    "import xml.etree.ElementTree as ET\n",
    "from tqdm import tqdm\n",
    "import pandas as pd\n",
    "from concurrent.futures import ThreadPoolExecutor\n",
    "\n",
    "from drugbank_XML_drugparser import DrugParser\n",
    "from drugbank_bindingdb_merger import DrugBank_BindingDB_Merger\n",
    "from preprocessing import Preprocessing, ColumnClean\n",
    "\n",
    "from data_paths import *\n",
    "\n",
    "%matplotlib inline\n",
    "\n",
    "%load_ext autoreload\n",
    "%autoreload 2"
   ]
  },
  {
   "cell_type": "markdown",
   "metadata": {},
   "source": [
    "## Parsing and cleaning BindingDB"
   ]
  },
  {
   "cell_type": "code",
   "execution_count": 6,
   "metadata": {},
   "outputs": [
    {
     "name": "stdout",
     "output_type": "stream",
     "text": [
      "Creating clean BindingDB...\n",
      "Loading Binding DB...\n"
     ]
    },
    {
     "name": "stderr",
     "output_type": "stream",
     "text": [
      "C:\\Users\\sebge\\AppData\\Local\\Temp\\ipykernel_6136\\425783767.py:7: DtypeWarning: Columns (8,9,10,11,12,13,15,17,32,33,35,36,54) have mixed types. Specify dtype option on import or set low_memory=False.\n",
      "  return pd.read_csv(file_path, sep='\\t', header=0, usecols=cols)\n"
     ]
    },
    {
     "name": "stdout",
     "output_type": "stream",
     "text": [
      "Cleaning Binding DB...\n"
     ]
    },
    {
     "name": "stderr",
     "output_type": "stream",
     "text": [
      "c:\\Users\\sebge\\miniconda3\\envs\\epfl-master\\Lib\\site-packages\\pandas\\core\\dtypes\\cast.py:1057: RuntimeWarning: invalid value encountered in cast\n",
      "  if (arr.astype(int) == arr).all():\n",
      "c:\\Users\\sebge\\miniconda3\\envs\\epfl-master\\Lib\\site-packages\\pandas\\core\\dtypes\\cast.py:1081: RuntimeWarning: invalid value encountered in cast\n",
      "  if (arr.astype(int) == arr).all():\n"
     ]
    },
    {
     "name": "stdout",
     "output_type": "stream",
     "text": [
      "Column Name                    Raw NaN%   Clean NaN%\n",
      "--------------------------------------------------\n",
      "ki                                       79.74      79.74     \n",
      "ph                                       92.65      92.65     \n",
      "temp                                     93.14      93.14     \n",
      "ic50                                     33.10      33.10     \n",
      "ec50                                     90.85      90.85     \n",
      "kd                                       96.20      96.20     \n",
      "kon                                      99.97      99.97     \n",
      "koff                                     99.97      99.97     \n",
      "doi                                      46.93      46.93     \n",
      "target_name                              0.00       0.00      \n",
      "pubchem_cid                              1.81       1.81      \n",
      "chebi_id                                 96.69      96.69     \n",
      "chembl_id                                62.23      62.23     \n",
      "drugbank_id                              97.01      97.01     \n",
      "kegg_id                                  96.58      96.58     \n",
      "zinc_id                                  60.12      60.12     \n",
      "smiles                                   0.00       0.00      \n",
      "inchi_key                                4.25       4.25      \n",
      "bindingdb_id                             0.00       0.00      \n",
      "pubchem_cid                              1.81       1.81      \n",
      "swissprot_target_chain_name              2.97       2.97      \n",
      "swissprot_target_chain_entry_name        3.00       3.00      \n",
      "swissprot_protein_id                     94.71      94.71     \n"
     ]
    }
   ],
   "source": [
    "if os.path.exists(BINDINGDB_CLEAN):\n",
    "    print(\"BindingDB clean exists...\")\n",
    "    clean_binding_df = pd.read_pickle(BINDINGDB_CLEAN)\n",
    "else:\n",
    "    print(\"Creating clean BindingDB...\")\n",
    "    def load_BindingDB(file_path, cols):\n",
    "        return pd.read_csv(file_path, sep='\\t', header=0, usecols=cols)\n",
    "\n",
    "    \"\"\"\n",
    "    This method srips all non-numeric characters from the value.\n",
    "\n",
    "    For example, the temperature is always given as 12C or 14.2C, so we remove the C.\n",
    "\n",
    "    In come cases, mesured values are given as >10000 or <.01. In these cases, we just take the bound, as it is still better then loosing all the information by replacing it with NA.\n",
    "    \"\"\"\n",
    "    def keep_just_numeric(value):\n",
    "        if type(value) != str:\n",
    "            if type(value) == float or type(value) == int:\n",
    "                return value\n",
    "            else:\n",
    "                return pd.NA\n",
    "\n",
    "        ## All non-numeric characters (except the decimal .) should be replaced\n",
    "        cleaned_val = re.sub(r'[^\\d.]+','', str(value)) \n",
    "        if(cleaned_val == ''): # It didn't contain any number?\n",
    "            return pd.NA\n",
    "        return float(cleaned_val)\n",
    "\n",
    "    def parse_int(value):\n",
    "        try:\n",
    "            return int(value)\n",
    "        except:\n",
    "            return pd.NA\n",
    "    # First, we specify which \n",
    "    bdb_preprocessor = Preprocessing(\n",
    "        [\n",
    "            ColumnClean('Ki (nM)', 'ki', clean=keep_just_numeric),\n",
    "            ColumnClean('pH', 'ph', clean=keep_just_numeric),\n",
    "            ColumnClean('Temp (C)', 'temp', clean=keep_just_numeric),\n",
    "            ColumnClean('IC50 (nM)', 'ic50', clean=keep_just_numeric),\n",
    "            ColumnClean('EC50 (nM)', 'ec50', clean=keep_just_numeric),\n",
    "            ColumnClean('Kd (nM)', 'kd', clean=keep_just_numeric),\n",
    "            ColumnClean('kon (M-1-s-1)', 'kon', clean=keep_just_numeric),\n",
    "            ColumnClean('koff (s-1)', 'koff', clean=keep_just_numeric),\n",
    "\n",
    "            # These columns are supposed to contain strings.\n",
    "            ColumnClean('Article DOI', 'doi'),\n",
    "            ColumnClean('Target Name', 'target_name'),\n",
    "\n",
    "            # We use these IDs to join bindingDB and drugbank\n",
    "            ColumnClean('PubChem CID', 'pubchem_cid'),\n",
    "            ColumnClean('ChEBI ID of Ligand', 'chebi_id'),\n",
    "            ColumnClean('ChEMBL ID of Ligand', 'chembl_id'),\n",
    "            ColumnClean('DrugBank ID of Ligand', 'drugbank_id'),\n",
    "            ColumnClean('KEGG ID of Ligand', 'kegg_id'),\n",
    "            ColumnClean('ZINC ID of Ligand', 'zinc_id'),\n",
    "            ColumnClean('Ligand SMILES', 'smiles'),\n",
    "            ColumnClean('Ligand InChI Key', 'inchi_key'),\n",
    "            ColumnClean('BindingDB MonomerID', 'bindingdb_id', clean=parse_int),\n",
    "            ColumnClean('PubChem CID','pubchem_cid'),\n",
    "            ColumnClean('UniProt (SwissProt) Recommended Name of Target Chain', 'swissprot_target_chain_name'),\n",
    "            ColumnClean('UniProt (SwissProt) Entry Name of Target Chain', 'swissprot_target_chain_entry_name'),\n",
    "            ColumnClean('UniProt (SwissProt) Primary ID of Target Chain.1', 'swissprot_protein_id'),\n",
    "        ]\n",
    "    )\n",
    "\n",
    "    print(\"Loading Binding DB...\")\n",
    "    raw_binding_df = load_BindingDB(BINDINGDB_RAW, bdb_preprocessor.get_all_old_columns())\n",
    "\n",
    "    print(\"Cleaning Binding DB...\")\n",
    "    clean_binding_df = bdb_preprocessor.transform(raw_binding_df)\n",
    "    clean_binding_df.to_pickle(BINDINGDB_CLEAN)\n",
    "\n",
    "    assert len(clean_binding_df) == len(raw_binding_df)\n",
    "\n",
    "    # Print header\n",
    "    print(f\"{'Column Name':<30} {'Raw NaN%':<10} {'Clean NaN%':<10}\")\n",
    "    print(\"-\" * 50)\n",
    "\n",
    "    # Print each column's NaN percentages\n",
    "    for col_old, col_new in zip(bdb_preprocessor.get_all_old_columns(), bdb_preprocessor.get_all_new_columns()):\n",
    "        raw = raw_binding_df[col_old].isna().mean() * 100\n",
    "        clean = clean_binding_df[col_new].isna().mean() * 100\n",
    "        print(f\"{col_new:<40} {raw:<10.2f} {clean:<10.2f}\")\n",
    "\n",
    "    del raw_binding_df\n",
    "    gc.collect()\n"
   ]
  },
  {
   "cell_type": "code",
   "execution_count": 7,
   "metadata": {},
   "outputs": [
    {
     "data": {
      "text/html": [
       "<div>\n",
       "<style scoped>\n",
       "    .dataframe tbody tr th:only-of-type {\n",
       "        vertical-align: middle;\n",
       "    }\n",
       "\n",
       "    .dataframe tbody tr th {\n",
       "        vertical-align: top;\n",
       "    }\n",
       "\n",
       "    .dataframe thead th {\n",
       "        text-align: right;\n",
       "    }\n",
       "</style>\n",
       "<table border=\"1\" class=\"dataframe\">\n",
       "  <thead>\n",
       "    <tr style=\"text-align: right;\">\n",
       "      <th></th>\n",
       "      <th>ki</th>\n",
       "      <th>ph</th>\n",
       "      <th>temp</th>\n",
       "      <th>ic50</th>\n",
       "      <th>ec50</th>\n",
       "      <th>kd</th>\n",
       "      <th>kon</th>\n",
       "      <th>koff</th>\n",
       "      <th>doi</th>\n",
       "      <th>target_name</th>\n",
       "      <th>...</th>\n",
       "      <th>chembl_id</th>\n",
       "      <th>drugbank_id</th>\n",
       "      <th>kegg_id</th>\n",
       "      <th>zinc_id</th>\n",
       "      <th>smiles</th>\n",
       "      <th>inchi_key</th>\n",
       "      <th>bindingdb_id</th>\n",
       "      <th>swissprot_target_chain_name</th>\n",
       "      <th>swissprot_target_chain_entry_name</th>\n",
       "      <th>swissprot_protein_id</th>\n",
       "    </tr>\n",
       "  </thead>\n",
       "  <tbody>\n",
       "    <tr>\n",
       "      <th>1529090</th>\n",
       "      <td>&lt;NA&gt;</td>\n",
       "      <td>&lt;NA&gt;</td>\n",
       "      <td>&lt;NA&gt;</td>\n",
       "      <td>90.0</td>\n",
       "      <td>&lt;NA&gt;</td>\n",
       "      <td>&lt;NA&gt;</td>\n",
       "      <td>&lt;NA&gt;</td>\n",
       "      <td>&lt;NA&gt;</td>\n",
       "      <td>10.1016/j.bmcl.2005.09.047</td>\n",
       "      <td>RNA-directed RNA polymerase</td>\n",
       "      <td>...</td>\n",
       "      <td>CHEMBL437897</td>\n",
       "      <td>&lt;NA&gt;</td>\n",
       "      <td>&lt;NA&gt;</td>\n",
       "      <td>ZINC28565203</td>\n",
       "      <td>CCOC(=O)c1c(NC(=O)NS(=O)(=O)c2ccc(cc2)C#N)sc2C...</td>\n",
       "      <td>GPEYHWQPZHXNKL-UHFFFAOYSA-N</td>\n",
       "      <td>50176293</td>\n",
       "      <td>&lt;NA&gt;</td>\n",
       "      <td>&lt;NA&gt;</td>\n",
       "      <td>&lt;NA&gt;</td>\n",
       "    </tr>\n",
       "    <tr>\n",
       "      <th>2695315</th>\n",
       "      <td>&lt;NA&gt;</td>\n",
       "      <td>&lt;NA&gt;</td>\n",
       "      <td>&lt;NA&gt;</td>\n",
       "      <td>430.0</td>\n",
       "      <td>&lt;NA&gt;</td>\n",
       "      <td>&lt;NA&gt;</td>\n",
       "      <td>&lt;NA&gt;</td>\n",
       "      <td>&lt;NA&gt;</td>\n",
       "      <td>10.1016/j.bmcl.2019.126753</td>\n",
       "      <td>Urokinase-type plasminogen activator</td>\n",
       "      <td>...</td>\n",
       "      <td>&lt;NA&gt;</td>\n",
       "      <td>&lt;NA&gt;</td>\n",
       "      <td>&lt;NA&gt;</td>\n",
       "      <td>&lt;NA&gt;</td>\n",
       "      <td>NC(=N)NC(=O)c1nc(-c2cc3ccccc3o2)c(N)nc1N</td>\n",
       "      <td>ZKLNPUKNSARQMG-UHFFFAOYSA-N</td>\n",
       "      <td>50529246</td>\n",
       "      <td>Urokinase-type plasminogen activator</td>\n",
       "      <td>UROK_HUMAN</td>\n",
       "      <td>&lt;NA&gt;</td>\n",
       "    </tr>\n",
       "    <tr>\n",
       "      <th>229719</th>\n",
       "      <td>0.8</td>\n",
       "      <td>&lt;NA&gt;</td>\n",
       "      <td>&lt;NA&gt;</td>\n",
       "      <td>&lt;NA&gt;</td>\n",
       "      <td>&lt;NA&gt;</td>\n",
       "      <td>&lt;NA&gt;</td>\n",
       "      <td>&lt;NA&gt;</td>\n",
       "      <td>&lt;NA&gt;</td>\n",
       "      <td>&lt;NA&gt;</td>\n",
       "      <td>Trace amine-associated receptor 1</td>\n",
       "      <td>...</td>\n",
       "      <td>&lt;NA&gt;</td>\n",
       "      <td>&lt;NA&gt;</td>\n",
       "      <td>&lt;NA&gt;</td>\n",
       "      <td>&lt;NA&gt;</td>\n",
       "      <td>NC1=N[C@@H](CO1)c1ccc(cc1)-c1ccccc1</td>\n",
       "      <td>VXPAHLKILGDCAD-AWEZNQCLSA-N</td>\n",
       "      <td>109362</td>\n",
       "      <td>Trace amine-associated receptor 1</td>\n",
       "      <td>TAAR1_MOUSE</td>\n",
       "      <td>&lt;NA&gt;</td>\n",
       "    </tr>\n",
       "    <tr>\n",
       "      <th>244850</th>\n",
       "      <td>2100.0</td>\n",
       "      <td>&lt;NA&gt;</td>\n",
       "      <td>&lt;NA&gt;</td>\n",
       "      <td>&lt;NA&gt;</td>\n",
       "      <td>&lt;NA&gt;</td>\n",
       "      <td>&lt;NA&gt;</td>\n",
       "      <td>&lt;NA&gt;</td>\n",
       "      <td>&lt;NA&gt;</td>\n",
       "      <td>&lt;NA&gt;</td>\n",
       "      <td>Orexin receptor type 2</td>\n",
       "      <td>...</td>\n",
       "      <td>&lt;NA&gt;</td>\n",
       "      <td>&lt;NA&gt;</td>\n",
       "      <td>&lt;NA&gt;</td>\n",
       "      <td>&lt;NA&gt;</td>\n",
       "      <td>Cc1cc(C)nc(n1)N1CC2CN(CC2C1)C(=O)c1ncccc1-c1cc...</td>\n",
       "      <td>DBSXIIPDJNLICY-UHFFFAOYSA-N</td>\n",
       "      <td>118555</td>\n",
       "      <td>Orexin receptor type 2</td>\n",
       "      <td>OX2R_HUMAN</td>\n",
       "      <td>&lt;NA&gt;</td>\n",
       "    </tr>\n",
       "    <tr>\n",
       "      <th>841786</th>\n",
       "      <td>&lt;NA&gt;</td>\n",
       "      <td>&lt;NA&gt;</td>\n",
       "      <td>&lt;NA&gt;</td>\n",
       "      <td>3000.0</td>\n",
       "      <td>&lt;NA&gt;</td>\n",
       "      <td>&lt;NA&gt;</td>\n",
       "      <td>&lt;NA&gt;</td>\n",
       "      <td>&lt;NA&gt;</td>\n",
       "      <td>&lt;NA&gt;</td>\n",
       "      <td>Calmodulin-domain protein kinase 1, putative</td>\n",
       "      <td>...</td>\n",
       "      <td>CHEMBL1784962</td>\n",
       "      <td>&lt;NA&gt;</td>\n",
       "      <td>&lt;NA&gt;</td>\n",
       "      <td>ZINC71296190</td>\n",
       "      <td>Nc1ncnc2n(Cc3ccccc3)nc(Cc3cccc4ccccc34)c12</td>\n",
       "      <td>CMBDYQBCOSPKIJ-UHFFFAOYSA-N</td>\n",
       "      <td>50345709</td>\n",
       "      <td>&lt;NA&gt;</td>\n",
       "      <td>&lt;NA&gt;</td>\n",
       "      <td>&lt;NA&gt;</td>\n",
       "    </tr>\n",
       "    <tr>\n",
       "      <th>2817154</th>\n",
       "      <td>&lt;NA&gt;</td>\n",
       "      <td>&lt;NA&gt;</td>\n",
       "      <td>&lt;NA&gt;</td>\n",
       "      <td>92.0</td>\n",
       "      <td>&lt;NA&gt;</td>\n",
       "      <td>&lt;NA&gt;</td>\n",
       "      <td>&lt;NA&gt;</td>\n",
       "      <td>&lt;NA&gt;</td>\n",
       "      <td>10.1021/acs.jmedchem.1c00104</td>\n",
       "      <td>Dipeptidyl peptidase 1</td>\n",
       "      <td>...</td>\n",
       "      <td>&lt;NA&gt;</td>\n",
       "      <td>&lt;NA&gt;</td>\n",
       "      <td>&lt;NA&gt;</td>\n",
       "      <td>&lt;NA&gt;</td>\n",
       "      <td>FC(F)(F)c1cccc(Nc2ccnc(Nc3ccc(cn3)-c3ccsc3)n2)c1</td>\n",
       "      <td>PKDJMOPRADKMKS-UHFFFAOYSA-N</td>\n",
       "      <td>50573828</td>\n",
       "      <td>Dipeptidyl peptidase 1</td>\n",
       "      <td>CATC_HUMAN</td>\n",
       "      <td>&lt;NA&gt;</td>\n",
       "    </tr>\n",
       "    <tr>\n",
       "      <th>2532187</th>\n",
       "      <td>&lt;NA&gt;</td>\n",
       "      <td>&lt;NA&gt;</td>\n",
       "      <td>&lt;NA&gt;</td>\n",
       "      <td>264.0</td>\n",
       "      <td>&lt;NA&gt;</td>\n",
       "      <td>&lt;NA&gt;</td>\n",
       "      <td>&lt;NA&gt;</td>\n",
       "      <td>&lt;NA&gt;</td>\n",
       "      <td>10.1021/acs.jmedchem.8b00810</td>\n",
       "      <td>Baculoviral IAP repeat-containing protein 2</td>\n",
       "      <td>...</td>\n",
       "      <td>&lt;NA&gt;</td>\n",
       "      <td>&lt;NA&gt;</td>\n",
       "      <td>&lt;NA&gt;</td>\n",
       "      <td>&lt;NA&gt;</td>\n",
       "      <td>CN[C@@H](C)C(=O)N[C@@H](CNC(=O)c1cccc(c1)S(F)(...</td>\n",
       "      <td>WUKBGMQXKBDWJJ-ZMVGRULKSA-N</td>\n",
       "      <td>50465626</td>\n",
       "      <td>Baculoviral IAP repeat-containing protein 2</td>\n",
       "      <td>BIRC2_HUMAN</td>\n",
       "      <td>&lt;NA&gt;</td>\n",
       "    </tr>\n",
       "    <tr>\n",
       "      <th>1710430</th>\n",
       "      <td>422.0</td>\n",
       "      <td>&lt;NA&gt;</td>\n",
       "      <td>&lt;NA&gt;</td>\n",
       "      <td>&lt;NA&gt;</td>\n",
       "      <td>&lt;NA&gt;</td>\n",
       "      <td>&lt;NA&gt;</td>\n",
       "      <td>&lt;NA&gt;</td>\n",
       "      <td>&lt;NA&gt;</td>\n",
       "      <td>10.1016/j.bmcl.2005.06.008</td>\n",
       "      <td>Cannabinoid receptor 1</td>\n",
       "      <td>...</td>\n",
       "      <td>CHEMBL187412</td>\n",
       "      <td>&lt;NA&gt;</td>\n",
       "      <td>&lt;NA&gt;</td>\n",
       "      <td>ZINC28462961</td>\n",
       "      <td>CCCCCn1cc(C(=O)Cc2ccc(F)cc2)c2ccccc12</td>\n",
       "      <td>QGDPTDVGZNHCIR-UHFFFAOYSA-N</td>\n",
       "      <td>50170330</td>\n",
       "      <td>Cannabinoid receptor 1</td>\n",
       "      <td>CNR1_RAT</td>\n",
       "      <td>&lt;NA&gt;</td>\n",
       "    </tr>\n",
       "    <tr>\n",
       "      <th>653074</th>\n",
       "      <td>&lt;NA&gt;</td>\n",
       "      <td>&lt;NA&gt;</td>\n",
       "      <td>&lt;NA&gt;</td>\n",
       "      <td>10000.0</td>\n",
       "      <td>&lt;NA&gt;</td>\n",
       "      <td>&lt;NA&gt;</td>\n",
       "      <td>&lt;NA&gt;</td>\n",
       "      <td>&lt;NA&gt;</td>\n",
       "      <td>&lt;NA&gt;</td>\n",
       "      <td>Amine oxidase [flavin-containing] B</td>\n",
       "      <td>...</td>\n",
       "      <td>&lt;NA&gt;</td>\n",
       "      <td>&lt;NA&gt;</td>\n",
       "      <td>&lt;NA&gt;</td>\n",
       "      <td>&lt;NA&gt;</td>\n",
       "      <td>Cc1nnc(NC(=O)c2ccc(C)c(c2)C2CC2NCC2CC2)s1</td>\n",
       "      <td>XSISDAAOLHSFTI-UHFFFAOYSA-N</td>\n",
       "      <td>338727</td>\n",
       "      <td>Amine oxidase [flavin-containing] B</td>\n",
       "      <td>AOFB_HUMAN</td>\n",
       "      <td>&lt;NA&gt;</td>\n",
       "    </tr>\n",
       "    <tr>\n",
       "      <th>102557</th>\n",
       "      <td>&lt;NA&gt;</td>\n",
       "      <td>&lt;NA&gt;</td>\n",
       "      <td>&lt;NA&gt;</td>\n",
       "      <td>15070.0</td>\n",
       "      <td>&lt;NA&gt;</td>\n",
       "      <td>&lt;NA&gt;</td>\n",
       "      <td>&lt;NA&gt;</td>\n",
       "      <td>&lt;NA&gt;</td>\n",
       "      <td>&lt;NA&gt;</td>\n",
       "      <td>SUMO-conjugating enzyme UBC9</td>\n",
       "      <td>...</td>\n",
       "      <td>&lt;NA&gt;</td>\n",
       "      <td>&lt;NA&gt;</td>\n",
       "      <td>&lt;NA&gt;</td>\n",
       "      <td>ZINC17953268</td>\n",
       "      <td>Oc1ccccc1C(=O)N\\N=C1/C(=O)N(CC(=O)Nc2ccccc2)c2...</td>\n",
       "      <td>JJQQBBPIFVQYRZ-DAFNUICNSA-N</td>\n",
       "      <td>61170</td>\n",
       "      <td>SUMO-conjugating enzyme UBC9</td>\n",
       "      <td>UBC9_HUMAN</td>\n",
       "      <td>&lt;NA&gt;</td>\n",
       "    </tr>\n",
       "    <tr>\n",
       "      <th>850957</th>\n",
       "      <td>&lt;NA&gt;</td>\n",
       "      <td>&lt;NA&gt;</td>\n",
       "      <td>&lt;NA&gt;</td>\n",
       "      <td>12.5</td>\n",
       "      <td>&lt;NA&gt;</td>\n",
       "      <td>&lt;NA&gt;</td>\n",
       "      <td>&lt;NA&gt;</td>\n",
       "      <td>&lt;NA&gt;</td>\n",
       "      <td>&lt;NA&gt;</td>\n",
       "      <td>A disintegrin and metalloproteinase with throm...</td>\n",
       "      <td>...</td>\n",
       "      <td>&lt;NA&gt;</td>\n",
       "      <td>&lt;NA&gt;</td>\n",
       "      <td>&lt;NA&gt;</td>\n",
       "      <td>&lt;NA&gt;</td>\n",
       "      <td>CCOc1cc(cc(OC)c1Cl)C1CCN(CC1)C(=O)CC[C@H]1NC(=...</td>\n",
       "      <td>WIVGLBVPOCFAER-CQSZACIVSA-N</td>\n",
       "      <td>429768</td>\n",
       "      <td>A disintegrin and metalloproteinase with throm...</td>\n",
       "      <td>ATS6_HUMAN</td>\n",
       "      <td>&lt;NA&gt;</td>\n",
       "    </tr>\n",
       "    <tr>\n",
       "      <th>2623639</th>\n",
       "      <td>&lt;NA&gt;</td>\n",
       "      <td>&lt;NA&gt;</td>\n",
       "      <td>&lt;NA&gt;</td>\n",
       "      <td>&lt;NA&gt;</td>\n",
       "      <td>&lt;NA&gt;</td>\n",
       "      <td>1000.0</td>\n",
       "      <td>&lt;NA&gt;</td>\n",
       "      <td>&lt;NA&gt;</td>\n",
       "      <td>10.1016/j.bmc.2018.12.011</td>\n",
       "      <td>Carbonic anhydrase 9</td>\n",
       "      <td>...</td>\n",
       "      <td>&lt;NA&gt;</td>\n",
       "      <td>&lt;NA&gt;</td>\n",
       "      <td>&lt;NA&gt;</td>\n",
       "      <td>&lt;NA&gt;</td>\n",
       "      <td>Cc1cc(NCC(CC(O)=O)c2n[nH]c(=S)n2-c2ccccc2)c(Cl...</td>\n",
       "      <td>CVAPWQUGPIGKOD-UHFFFAOYSA-N</td>\n",
       "      <td>50503798</td>\n",
       "      <td>Carbonic anhydrase 9</td>\n",
       "      <td>CAH9_HUMAN</td>\n",
       "      <td>&lt;NA&gt;</td>\n",
       "    </tr>\n",
       "    <tr>\n",
       "      <th>338712</th>\n",
       "      <td>&lt;NA&gt;</td>\n",
       "      <td>7.2</td>\n",
       "      <td>&lt;NA&gt;</td>\n",
       "      <td>100.0</td>\n",
       "      <td>&lt;NA&gt;</td>\n",
       "      <td>&lt;NA&gt;</td>\n",
       "      <td>&lt;NA&gt;</td>\n",
       "      <td>&lt;NA&gt;</td>\n",
       "      <td>&lt;NA&gt;</td>\n",
       "      <td>Interleukin-1 receptor-associated kinase 4</td>\n",
       "      <td>...</td>\n",
       "      <td>&lt;NA&gt;</td>\n",
       "      <td>&lt;NA&gt;</td>\n",
       "      <td>&lt;NA&gt;</td>\n",
       "      <td>&lt;NA&gt;</td>\n",
       "      <td>O=C(Nc1cc(nn1-c1ccc(cn1)C1CC1)C1CCNCC1)c1cnn2c...</td>\n",
       "      <td>YDXGENDDXXNZPG-UHFFFAOYSA-N</td>\n",
       "      <td>188880</td>\n",
       "      <td>Interleukin-1 receptor-associated kinase 4</td>\n",
       "      <td>IRAK4_HUMAN</td>\n",
       "      <td>&lt;NA&gt;</td>\n",
       "    </tr>\n",
       "    <tr>\n",
       "      <th>964297</th>\n",
       "      <td>&lt;NA&gt;</td>\n",
       "      <td>&lt;NA&gt;</td>\n",
       "      <td>&lt;NA&gt;</td>\n",
       "      <td>&lt;NA&gt;</td>\n",
       "      <td>13.0</td>\n",
       "      <td>&lt;NA&gt;</td>\n",
       "      <td>&lt;NA&gt;</td>\n",
       "      <td>&lt;NA&gt;</td>\n",
       "      <td>&lt;NA&gt;</td>\n",
       "      <td>Capsid protein</td>\n",
       "      <td>...</td>\n",
       "      <td>&lt;NA&gt;</td>\n",
       "      <td>&lt;NA&gt;</td>\n",
       "      <td>&lt;NA&gt;</td>\n",
       "      <td>&lt;NA&gt;</td>\n",
       "      <td>CNC(=O)C1(CC(F)(F)C1)NC(=O)C(=O)c1c(C)c(C(=O)N...</td>\n",
       "      <td>JPBZMKGIVYKUJY-QMTHXVAHSA-N</td>\n",
       "      <td>400060</td>\n",
       "      <td>Capsid protein</td>\n",
       "      <td>CAPSD_HBVCJ</td>\n",
       "      <td>&lt;NA&gt;</td>\n",
       "    </tr>\n",
       "    <tr>\n",
       "      <th>994942</th>\n",
       "      <td>&lt;NA&gt;</td>\n",
       "      <td>&lt;NA&gt;</td>\n",
       "      <td>&lt;NA&gt;</td>\n",
       "      <td>171.0</td>\n",
       "      <td>&lt;NA&gt;</td>\n",
       "      <td>&lt;NA&gt;</td>\n",
       "      <td>&lt;NA&gt;</td>\n",
       "      <td>&lt;NA&gt;</td>\n",
       "      <td>&lt;NA&gt;</td>\n",
       "      <td>Tyrosine-protein kinase JAK2</td>\n",
       "      <td>...</td>\n",
       "      <td>&lt;NA&gt;</td>\n",
       "      <td>&lt;NA&gt;</td>\n",
       "      <td>&lt;NA&gt;</td>\n",
       "      <td>&lt;NA&gt;</td>\n",
       "      <td>CN([C@@H]1C[C@@H](C1)NS(=O)(=O)N1CC(C1)C#N)c1n...</td>\n",
       "      <td>&lt;NA&gt;</td>\n",
       "      <td>159769</td>\n",
       "      <td>Tyrosine-protein kinase JAK2</td>\n",
       "      <td>JAK2_HUMAN</td>\n",
       "      <td>&lt;NA&gt;</td>\n",
       "    </tr>\n",
       "    <tr>\n",
       "      <th>543165</th>\n",
       "      <td>&lt;NA&gt;</td>\n",
       "      <td>7.5</td>\n",
       "      <td>25.0</td>\n",
       "      <td>55.0</td>\n",
       "      <td>&lt;NA&gt;</td>\n",
       "      <td>&lt;NA&gt;</td>\n",
       "      <td>&lt;NA&gt;</td>\n",
       "      <td>&lt;NA&gt;</td>\n",
       "      <td>&lt;NA&gt;</td>\n",
       "      <td>Tyrosine-protein kinase SYK</td>\n",
       "      <td>...</td>\n",
       "      <td>&lt;NA&gt;</td>\n",
       "      <td>&lt;NA&gt;</td>\n",
       "      <td>&lt;NA&gt;</td>\n",
       "      <td>&lt;NA&gt;</td>\n",
       "      <td>Cc1ccc(cc1)-c1cccc(Nc2nc(N[C@@H]3CCCC[C@@H]3N)...</td>\n",
       "      <td>RVGPQNFAMCCHQA-LEWJYISDSA-N</td>\n",
       "      <td>290854</td>\n",
       "      <td>Tyrosine-protein kinase SYK</td>\n",
       "      <td>KSYK_HUMAN</td>\n",
       "      <td>&lt;NA&gt;</td>\n",
       "    </tr>\n",
       "    <tr>\n",
       "      <th>422708</th>\n",
       "      <td>&lt;NA&gt;</td>\n",
       "      <td>&lt;NA&gt;</td>\n",
       "      <td>37.0</td>\n",
       "      <td>29000.0</td>\n",
       "      <td>&lt;NA&gt;</td>\n",
       "      <td>&lt;NA&gt;</td>\n",
       "      <td>&lt;NA&gt;</td>\n",
       "      <td>&lt;NA&gt;</td>\n",
       "      <td>&lt;NA&gt;</td>\n",
       "      <td>Serine/threonine-protein kinase ATR</td>\n",
       "      <td>...</td>\n",
       "      <td>&lt;NA&gt;</td>\n",
       "      <td>&lt;NA&gt;</td>\n",
       "      <td>&lt;NA&gt;</td>\n",
       "      <td>&lt;NA&gt;</td>\n",
       "      <td>CO[C@H]1C[C@H](C1)n1c2c(cnc3ccc(cc23)-c2ccc(OC...</td>\n",
       "      <td>DWICJHMMZLNUEB-BGYRXZFFSA-N</td>\n",
       "      <td>245475</td>\n",
       "      <td>Serine/threonine-protein kinase ATR</td>\n",
       "      <td>ATR_HUMAN</td>\n",
       "      <td>&lt;NA&gt;</td>\n",
       "    </tr>\n",
       "    <tr>\n",
       "      <th>243963</th>\n",
       "      <td>&lt;NA&gt;</td>\n",
       "      <td>7.5</td>\n",
       "      <td>&lt;NA&gt;</td>\n",
       "      <td>2.0</td>\n",
       "      <td>&lt;NA&gt;</td>\n",
       "      <td>&lt;NA&gt;</td>\n",
       "      <td>&lt;NA&gt;</td>\n",
       "      <td>&lt;NA&gt;</td>\n",
       "      <td>&lt;NA&gt;</td>\n",
       "      <td>Serine/threonine-protein kinase B-raf [V600E]</td>\n",
       "      <td>...</td>\n",
       "      <td>&lt;NA&gt;</td>\n",
       "      <td>&lt;NA&gt;</td>\n",
       "      <td>&lt;NA&gt;</td>\n",
       "      <td>&lt;NA&gt;</td>\n",
       "      <td>COCCN1CCN(CC1)c1ncc2ncnc(Nc3cc(ccc3C)C(=O)Nc3c...</td>\n",
       "      <td>NSRPSZQNSNJZLA-UHFFFAOYSA-N</td>\n",
       "      <td>117852</td>\n",
       "      <td>Serine/threonine-protein kinase B-raf</td>\n",
       "      <td>BRAF_HUMAN</td>\n",
       "      <td>&lt;NA&gt;</td>\n",
       "    </tr>\n",
       "    <tr>\n",
       "      <th>2917475</th>\n",
       "      <td>&lt;NA&gt;</td>\n",
       "      <td>&lt;NA&gt;</td>\n",
       "      <td>&lt;NA&gt;</td>\n",
       "      <td>60.0</td>\n",
       "      <td>&lt;NA&gt;</td>\n",
       "      <td>&lt;NA&gt;</td>\n",
       "      <td>&lt;NA&gt;</td>\n",
       "      <td>&lt;NA&gt;</td>\n",
       "      <td>&lt;NA&gt;</td>\n",
       "      <td>Sterol O-acyltransferase 1</td>\n",
       "      <td>...</td>\n",
       "      <td>&lt;NA&gt;</td>\n",
       "      <td>&lt;NA&gt;</td>\n",
       "      <td>&lt;NA&gt;</td>\n",
       "      <td>&lt;NA&gt;</td>\n",
       "      <td>Cc1cc(C)n(CCC[C@H]2CO[C@H](OC2)c2nc(c([nH]2)-c...</td>\n",
       "      <td>BIZMDYNVJVLPPY-ZSQTZEJBSA-N</td>\n",
       "      <td>50612269</td>\n",
       "      <td>Sterol O-acyltransferase 1</td>\n",
       "      <td>SOAT1_HUMAN</td>\n",
       "      <td>&lt;NA&gt;</td>\n",
       "    </tr>\n",
       "    <tr>\n",
       "      <th>768838</th>\n",
       "      <td>550.0</td>\n",
       "      <td>&lt;NA&gt;</td>\n",
       "      <td>&lt;NA&gt;</td>\n",
       "      <td>&lt;NA&gt;</td>\n",
       "      <td>&lt;NA&gt;</td>\n",
       "      <td>&lt;NA&gt;</td>\n",
       "      <td>&lt;NA&gt;</td>\n",
       "      <td>&lt;NA&gt;</td>\n",
       "      <td>&lt;NA&gt;</td>\n",
       "      <td>Carbonic anhydrase 1</td>\n",
       "      <td>...</td>\n",
       "      <td>CHEMBL1334282</td>\n",
       "      <td>&lt;NA&gt;</td>\n",
       "      <td>&lt;NA&gt;</td>\n",
       "      <td>&lt;NA&gt;</td>\n",
       "      <td>NS(=O)(=O)c1ccc(NC(=O)Nc2ccccc2F)cc1</td>\n",
       "      <td>OWWHFDSAOSYTOX-UHFFFAOYSA-N</td>\n",
       "      <td>50240179</td>\n",
       "      <td>Carbonic anhydrase 1</td>\n",
       "      <td>CAH1_HUMAN</td>\n",
       "      <td>&lt;NA&gt;</td>\n",
       "    </tr>\n",
       "  </tbody>\n",
       "</table>\n",
       "<p>20 rows × 22 columns</p>\n",
       "</div>"
      ],
      "text/plain": [
       "             ki    ph  temp     ic50  ec50      kd   kon  koff  \\\n",
       "1529090    <NA>  <NA>  <NA>     90.0  <NA>    <NA>  <NA>  <NA>   \n",
       "2695315    <NA>  <NA>  <NA>    430.0  <NA>    <NA>  <NA>  <NA>   \n",
       "229719      0.8  <NA>  <NA>     <NA>  <NA>    <NA>  <NA>  <NA>   \n",
       "244850   2100.0  <NA>  <NA>     <NA>  <NA>    <NA>  <NA>  <NA>   \n",
       "841786     <NA>  <NA>  <NA>   3000.0  <NA>    <NA>  <NA>  <NA>   \n",
       "2817154    <NA>  <NA>  <NA>     92.0  <NA>    <NA>  <NA>  <NA>   \n",
       "2532187    <NA>  <NA>  <NA>    264.0  <NA>    <NA>  <NA>  <NA>   \n",
       "1710430   422.0  <NA>  <NA>     <NA>  <NA>    <NA>  <NA>  <NA>   \n",
       "653074     <NA>  <NA>  <NA>  10000.0  <NA>    <NA>  <NA>  <NA>   \n",
       "102557     <NA>  <NA>  <NA>  15070.0  <NA>    <NA>  <NA>  <NA>   \n",
       "850957     <NA>  <NA>  <NA>     12.5  <NA>    <NA>  <NA>  <NA>   \n",
       "2623639    <NA>  <NA>  <NA>     <NA>  <NA>  1000.0  <NA>  <NA>   \n",
       "338712     <NA>   7.2  <NA>    100.0  <NA>    <NA>  <NA>  <NA>   \n",
       "964297     <NA>  <NA>  <NA>     <NA>  13.0    <NA>  <NA>  <NA>   \n",
       "994942     <NA>  <NA>  <NA>    171.0  <NA>    <NA>  <NA>  <NA>   \n",
       "543165     <NA>   7.5  25.0     55.0  <NA>    <NA>  <NA>  <NA>   \n",
       "422708     <NA>  <NA>  37.0  29000.0  <NA>    <NA>  <NA>  <NA>   \n",
       "243963     <NA>   7.5  <NA>      2.0  <NA>    <NA>  <NA>  <NA>   \n",
       "2917475    <NA>  <NA>  <NA>     60.0  <NA>    <NA>  <NA>  <NA>   \n",
       "768838    550.0  <NA>  <NA>     <NA>  <NA>    <NA>  <NA>  <NA>   \n",
       "\n",
       "                                  doi  \\\n",
       "1529090    10.1016/j.bmcl.2005.09.047   \n",
       "2695315    10.1016/j.bmcl.2019.126753   \n",
       "229719                           <NA>   \n",
       "244850                           <NA>   \n",
       "841786                           <NA>   \n",
       "2817154  10.1021/acs.jmedchem.1c00104   \n",
       "2532187  10.1021/acs.jmedchem.8b00810   \n",
       "1710430    10.1016/j.bmcl.2005.06.008   \n",
       "653074                           <NA>   \n",
       "102557                           <NA>   \n",
       "850957                           <NA>   \n",
       "2623639     10.1016/j.bmc.2018.12.011   \n",
       "338712                           <NA>   \n",
       "964297                           <NA>   \n",
       "994942                           <NA>   \n",
       "543165                           <NA>   \n",
       "422708                           <NA>   \n",
       "243963                           <NA>   \n",
       "2917475                          <NA>   \n",
       "768838                           <NA>   \n",
       "\n",
       "                                               target_name  ...  \\\n",
       "1529090                        RNA-directed RNA polymerase  ...   \n",
       "2695315               Urokinase-type plasminogen activator  ...   \n",
       "229719                   Trace amine-associated receptor 1  ...   \n",
       "244850                              Orexin receptor type 2  ...   \n",
       "841786        Calmodulin-domain protein kinase 1, putative  ...   \n",
       "2817154                             Dipeptidyl peptidase 1  ...   \n",
       "2532187        Baculoviral IAP repeat-containing protein 2  ...   \n",
       "1710430                             Cannabinoid receptor 1  ...   \n",
       "653074                 Amine oxidase [flavin-containing] B  ...   \n",
       "102557                        SUMO-conjugating enzyme UBC9  ...   \n",
       "850957   A disintegrin and metalloproteinase with throm...  ...   \n",
       "2623639                               Carbonic anhydrase 9  ...   \n",
       "338712          Interleukin-1 receptor-associated kinase 4  ...   \n",
       "964297                                      Capsid protein  ...   \n",
       "994942                        Tyrosine-protein kinase JAK2  ...   \n",
       "543165                         Tyrosine-protein kinase SYK  ...   \n",
       "422708                 Serine/threonine-protein kinase ATR  ...   \n",
       "243963       Serine/threonine-protein kinase B-raf [V600E]  ...   \n",
       "2917475                         Sterol O-acyltransferase 1  ...   \n",
       "768838                                Carbonic anhydrase 1  ...   \n",
       "\n",
       "             chembl_id  drugbank_id kegg_id       zinc_id  \\\n",
       "1529090   CHEMBL437897         <NA>    <NA>  ZINC28565203   \n",
       "2695315           <NA>         <NA>    <NA>          <NA>   \n",
       "229719            <NA>         <NA>    <NA>          <NA>   \n",
       "244850            <NA>         <NA>    <NA>          <NA>   \n",
       "841786   CHEMBL1784962         <NA>    <NA>  ZINC71296190   \n",
       "2817154           <NA>         <NA>    <NA>          <NA>   \n",
       "2532187           <NA>         <NA>    <NA>          <NA>   \n",
       "1710430   CHEMBL187412         <NA>    <NA>  ZINC28462961   \n",
       "653074            <NA>         <NA>    <NA>          <NA>   \n",
       "102557            <NA>         <NA>    <NA>  ZINC17953268   \n",
       "850957            <NA>         <NA>    <NA>          <NA>   \n",
       "2623639           <NA>         <NA>    <NA>          <NA>   \n",
       "338712            <NA>         <NA>    <NA>          <NA>   \n",
       "964297            <NA>         <NA>    <NA>          <NA>   \n",
       "994942            <NA>         <NA>    <NA>          <NA>   \n",
       "543165            <NA>         <NA>    <NA>          <NA>   \n",
       "422708            <NA>         <NA>    <NA>          <NA>   \n",
       "243963            <NA>         <NA>    <NA>          <NA>   \n",
       "2917475           <NA>         <NA>    <NA>          <NA>   \n",
       "768838   CHEMBL1334282         <NA>    <NA>          <NA>   \n",
       "\n",
       "                                                    smiles  \\\n",
       "1529090  CCOC(=O)c1c(NC(=O)NS(=O)(=O)c2ccc(cc2)C#N)sc2C...   \n",
       "2695315           NC(=N)NC(=O)c1nc(-c2cc3ccccc3o2)c(N)nc1N   \n",
       "229719                 NC1=N[C@@H](CO1)c1ccc(cc1)-c1ccccc1   \n",
       "244850   Cc1cc(C)nc(n1)N1CC2CN(CC2C1)C(=O)c1ncccc1-c1cc...   \n",
       "841786          Nc1ncnc2n(Cc3ccccc3)nc(Cc3cccc4ccccc34)c12   \n",
       "2817154   FC(F)(F)c1cccc(Nc2ccnc(Nc3ccc(cn3)-c3ccsc3)n2)c1   \n",
       "2532187  CN[C@@H](C)C(=O)N[C@@H](CNC(=O)c1cccc(c1)S(F)(...   \n",
       "1710430              CCCCCn1cc(C(=O)Cc2ccc(F)cc2)c2ccccc12   \n",
       "653074           Cc1nnc(NC(=O)c2ccc(C)c(c2)C2CC2NCC2CC2)s1   \n",
       "102557   Oc1ccccc1C(=O)N\\N=C1/C(=O)N(CC(=O)Nc2ccccc2)c2...   \n",
       "850957   CCOc1cc(cc(OC)c1Cl)C1CCN(CC1)C(=O)CC[C@H]1NC(=...   \n",
       "2623639  Cc1cc(NCC(CC(O)=O)c2n[nH]c(=S)n2-c2ccccc2)c(Cl...   \n",
       "338712   O=C(Nc1cc(nn1-c1ccc(cn1)C1CC1)C1CCNCC1)c1cnn2c...   \n",
       "964297   CNC(=O)C1(CC(F)(F)C1)NC(=O)C(=O)c1c(C)c(C(=O)N...   \n",
       "994942   CN([C@@H]1C[C@@H](C1)NS(=O)(=O)N1CC(C1)C#N)c1n...   \n",
       "543165   Cc1ccc(cc1)-c1cccc(Nc2nc(N[C@@H]3CCCC[C@@H]3N)...   \n",
       "422708   CO[C@H]1C[C@H](C1)n1c2c(cnc3ccc(cc23)-c2ccc(OC...   \n",
       "243963   COCCN1CCN(CC1)c1ncc2ncnc(Nc3cc(ccc3C)C(=O)Nc3c...   \n",
       "2917475  Cc1cc(C)n(CCC[C@H]2CO[C@H](OC2)c2nc(c([nH]2)-c...   \n",
       "768838                NS(=O)(=O)c1ccc(NC(=O)Nc2ccccc2F)cc1   \n",
       "\n",
       "                           inchi_key bindingdb_id  \\\n",
       "1529090  GPEYHWQPZHXNKL-UHFFFAOYSA-N     50176293   \n",
       "2695315  ZKLNPUKNSARQMG-UHFFFAOYSA-N     50529246   \n",
       "229719   VXPAHLKILGDCAD-AWEZNQCLSA-N       109362   \n",
       "244850   DBSXIIPDJNLICY-UHFFFAOYSA-N       118555   \n",
       "841786   CMBDYQBCOSPKIJ-UHFFFAOYSA-N     50345709   \n",
       "2817154  PKDJMOPRADKMKS-UHFFFAOYSA-N     50573828   \n",
       "2532187  WUKBGMQXKBDWJJ-ZMVGRULKSA-N     50465626   \n",
       "1710430  QGDPTDVGZNHCIR-UHFFFAOYSA-N     50170330   \n",
       "653074   XSISDAAOLHSFTI-UHFFFAOYSA-N       338727   \n",
       "102557   JJQQBBPIFVQYRZ-DAFNUICNSA-N        61170   \n",
       "850957   WIVGLBVPOCFAER-CQSZACIVSA-N       429768   \n",
       "2623639  CVAPWQUGPIGKOD-UHFFFAOYSA-N     50503798   \n",
       "338712   YDXGENDDXXNZPG-UHFFFAOYSA-N       188880   \n",
       "964297   JPBZMKGIVYKUJY-QMTHXVAHSA-N       400060   \n",
       "994942                          <NA>       159769   \n",
       "543165   RVGPQNFAMCCHQA-LEWJYISDSA-N       290854   \n",
       "422708   DWICJHMMZLNUEB-BGYRXZFFSA-N       245475   \n",
       "243963   NSRPSZQNSNJZLA-UHFFFAOYSA-N       117852   \n",
       "2917475  BIZMDYNVJVLPPY-ZSQTZEJBSA-N     50612269   \n",
       "768838   OWWHFDSAOSYTOX-UHFFFAOYSA-N     50240179   \n",
       "\n",
       "                               swissprot_target_chain_name  \\\n",
       "1529090                                               <NA>   \n",
       "2695315               Urokinase-type plasminogen activator   \n",
       "229719                   Trace amine-associated receptor 1   \n",
       "244850                              Orexin receptor type 2   \n",
       "841786                                                <NA>   \n",
       "2817154                             Dipeptidyl peptidase 1   \n",
       "2532187        Baculoviral IAP repeat-containing protein 2   \n",
       "1710430                             Cannabinoid receptor 1   \n",
       "653074                 Amine oxidase [flavin-containing] B   \n",
       "102557                        SUMO-conjugating enzyme UBC9   \n",
       "850957   A disintegrin and metalloproteinase with throm...   \n",
       "2623639                               Carbonic anhydrase 9   \n",
       "338712          Interleukin-1 receptor-associated kinase 4   \n",
       "964297                                      Capsid protein   \n",
       "994942                        Tyrosine-protein kinase JAK2   \n",
       "543165                         Tyrosine-protein kinase SYK   \n",
       "422708                 Serine/threonine-protein kinase ATR   \n",
       "243963               Serine/threonine-protein kinase B-raf   \n",
       "2917475                         Sterol O-acyltransferase 1   \n",
       "768838                                Carbonic anhydrase 1   \n",
       "\n",
       "         swissprot_target_chain_entry_name swissprot_protein_id  \n",
       "1529090                               <NA>                 <NA>  \n",
       "2695315                         UROK_HUMAN                 <NA>  \n",
       "229719                         TAAR1_MOUSE                 <NA>  \n",
       "244850                          OX2R_HUMAN                 <NA>  \n",
       "841786                                <NA>                 <NA>  \n",
       "2817154                         CATC_HUMAN                 <NA>  \n",
       "2532187                        BIRC2_HUMAN                 <NA>  \n",
       "1710430                           CNR1_RAT                 <NA>  \n",
       "653074                          AOFB_HUMAN                 <NA>  \n",
       "102557                          UBC9_HUMAN                 <NA>  \n",
       "850957                          ATS6_HUMAN                 <NA>  \n",
       "2623639                         CAH9_HUMAN                 <NA>  \n",
       "338712                         IRAK4_HUMAN                 <NA>  \n",
       "964297                         CAPSD_HBVCJ                 <NA>  \n",
       "994942                          JAK2_HUMAN                 <NA>  \n",
       "543165                          KSYK_HUMAN                 <NA>  \n",
       "422708                           ATR_HUMAN                 <NA>  \n",
       "243963                          BRAF_HUMAN                 <NA>  \n",
       "2917475                        SOAT1_HUMAN                 <NA>  \n",
       "768838                          CAH1_HUMAN                 <NA>  \n",
       "\n",
       "[20 rows x 22 columns]"
      ]
     },
     "execution_count": 7,
     "metadata": {},
     "output_type": "execute_result"
    }
   ],
   "source": [
    "clean_binding_df.sample(20)"
   ]
  },
  {
   "cell_type": "code",
   "execution_count": 8,
   "metadata": {},
   "outputs": [
    {
     "data": {
      "text/plain": [
       "ki                                          Float64\n",
       "ph                                          Float64\n",
       "temp                                        Float64\n",
       "ic50                                        Float64\n",
       "ec50                                        Float64\n",
       "kd                                          Float64\n",
       "kon                                         Float64\n",
       "koff                                        Float64\n",
       "doi                                  string[python]\n",
       "target_name                          string[python]\n",
       "pubchem_cid                                   Int64\n",
       "chebi_id                                      Int64\n",
       "chembl_id                            string[python]\n",
       "drugbank_id                          string[python]\n",
       "kegg_id                              string[python]\n",
       "zinc_id                              string[python]\n",
       "smiles                               string[python]\n",
       "inchi_key                            string[python]\n",
       "bindingdb_id                                  Int64\n",
       "swissprot_target_chain_name          string[python]\n",
       "swissprot_target_chain_entry_name    string[python]\n",
       "swissprot_protein_id                 string[python]\n",
       "dtype: object"
      ]
     },
     "execution_count": 8,
     "metadata": {},
     "output_type": "execute_result"
    }
   ],
   "source": [
    "# Did we sucessfully convert all the columns to the right types?\n",
    "clean_binding_df.dtypes"
   ]
  },
  {
   "cell_type": "markdown",
   "metadata": {},
   "source": [
    "## Parse and clean the Drugbank data"
   ]
  },
  {
   "cell_type": "code",
   "execution_count": 8,
   "metadata": {},
   "outputs": [
    {
     "name": "stdout",
     "output_type": "stream",
     "text": [
      "parsed_Drugbank doesn't exists...\n",
      "Parsing DrugBank XML...\n"
     ]
    },
    {
     "name": "stderr",
     "output_type": "stream",
     "text": [
      "100%|██████████| 16581/16581 [01:05<00:00, 251.63it/s] \n",
      "100%|██████████| 16581/16581 [00:23<00:00, 718.23it/s] \n"
     ]
    },
    {
     "name": "stdout",
     "output_type": "stream",
     "text": [
      "DrugBank XML is parsed. \n",
      " Loading Bind ...\n"
     ]
    }
   ],
   "source": [
    "\n",
    "if os.path.exists(DRUGBANK_LIGAND_PARSED) and os.path.exists(DRUGBANK_PROTEIN_PARSED):\n",
    "    print(\"parsed_Drugbank exists...\")\n",
    "    print(\"Loading...\")\n",
    "\n",
    "    drugbank_ligand = pd.read_pickle(DRUGBANK_LIGAND_PARSED)\n",
    "    drugbank_proteins = pd.read_pickle(DRUGBANK_PROTEIN_PARSED)\n",
    "else:\n",
    "    print(\"parsed_Drugbank doesn't exists...\")\n",
    "    print(\"Parsing DrugBank XML...\")\n",
    "\n",
    "    drugparser = DrugParser(DRUGBANK_XML)\n",
    "    drugparser.parse_drugs()\n",
    "    drugparser.parse_proteins()\n",
    "    drugbank_ligand, drugbank_proteins = drugparser.save_parsed_drugs(DRUGBANK_LIGAND_PARSED, DRUGBANK_PROTEIN_PARSED, return_df = True)\n",
    "\n",
    "    print(\"DrugBank XML is parsed. \\n Loading Bind ...\")"
   ]
  },
  {
   "cell_type": "markdown",
   "metadata": {},
   "source": [
    "## Merge BindingDB and DrugBank"
   ]
  },
  {
   "cell_type": "code",
   "execution_count": 9,
   "metadata": {},
   "outputs": [
    {
     "name": "stdout",
     "output_type": "stream",
     "text": [
      "Merged dataset doesn't exists.\n",
      " Creating it...\n"
     ]
    },
    {
     "name": "stderr",
     "output_type": "stream",
     "text": [
      "  0%|          | 0/7 [00:00<?, ?it/s]c:\\Users\\Charaf Kamel\\Desktop\\Kamel\\EPFL\\Semester_1\\ADA\\project_2\\HyperBabbage\\HyperBabbage\\drugbank_bindingdb_merger.py:106: SettingWithCopyWarning: \n",
      "A value is trying to be set on a copy of a slice from a DataFrame.\n",
      "Try using .loc[row_indexer,col_indexer] = value instead\n",
      "\n",
      "See the caveats in the documentation: https://pandas.pydata.org/pandas-docs/stable/user_guide/indexing.html#returning-a-view-versus-a-copy\n",
      "  binding_df_id[identifier] = binding_df_id[identifier].astype(str)\n",
      "c:\\Users\\Charaf Kamel\\Desktop\\Kamel\\EPFL\\Semester_1\\ADA\\project_2\\HyperBabbage\\HyperBabbage\\drugbank_bindingdb_merger.py:107: SettingWithCopyWarning: \n",
      "A value is trying to be set on a copy of a slice from a DataFrame.\n",
      "Try using .loc[row_indexer,col_indexer] = value instead\n",
      "\n",
      "See the caveats in the documentation: https://pandas.pydata.org/pandas-docs/stable/user_guide/indexing.html#returning-a-view-versus-a-copy\n",
      "  drugbank_df_id[identifier] = drugbank_df_id[identifier].astype(str)\n",
      " 14%|█▍        | 1/7 [00:25<02:34, 25.83s/it]"
     ]
    },
    {
     "name": "stdout",
     "output_type": "stream",
     "text": [
      "run\n"
     ]
    },
    {
     "name": "stderr",
     "output_type": "stream",
     "text": [
      "c:\\Users\\Charaf Kamel\\Desktop\\Kamel\\EPFL\\Semester_1\\ADA\\project_2\\HyperBabbage\\HyperBabbage\\drugbank_bindingdb_merger.py:106: SettingWithCopyWarning: \n",
      "A value is trying to be set on a copy of a slice from a DataFrame.\n",
      "Try using .loc[row_indexer,col_indexer] = value instead\n",
      "\n",
      "See the caveats in the documentation: https://pandas.pydata.org/pandas-docs/stable/user_guide/indexing.html#returning-a-view-versus-a-copy\n",
      "  binding_df_id[identifier] = binding_df_id[identifier].astype(str)\n",
      "c:\\Users\\Charaf Kamel\\Desktop\\Kamel\\EPFL\\Semester_1\\ADA\\project_2\\HyperBabbage\\HyperBabbage\\drugbank_bindingdb_merger.py:107: SettingWithCopyWarning: \n",
      "A value is trying to be set on a copy of a slice from a DataFrame.\n",
      "Try using .loc[row_indexer,col_indexer] = value instead\n",
      "\n",
      "See the caveats in the documentation: https://pandas.pydata.org/pandas-docs/stable/user_guide/indexing.html#returning-a-view-versus-a-copy\n",
      "  drugbank_df_id[identifier] = drugbank_df_id[identifier].astype(str)\n"
     ]
    },
    {
     "name": "stdout",
     "output_type": "stream",
     "text": [
      "run\n"
     ]
    },
    {
     "name": "stderr",
     "output_type": "stream",
     "text": [
      " 29%|██▊       | 2/7 [01:31<04:06, 49.34s/it]c:\\Users\\Charaf Kamel\\Desktop\\Kamel\\EPFL\\Semester_1\\ADA\\project_2\\HyperBabbage\\HyperBabbage\\drugbank_bindingdb_merger.py:106: SettingWithCopyWarning: \n",
      "A value is trying to be set on a copy of a slice from a DataFrame.\n",
      "Try using .loc[row_indexer,col_indexer] = value instead\n",
      "\n",
      "See the caveats in the documentation: https://pandas.pydata.org/pandas-docs/stable/user_guide/indexing.html#returning-a-view-versus-a-copy\n",
      "  binding_df_id[identifier] = binding_df_id[identifier].astype(str)\n",
      "c:\\Users\\Charaf Kamel\\Desktop\\Kamel\\EPFL\\Semester_1\\ADA\\project_2\\HyperBabbage\\HyperBabbage\\drugbank_bindingdb_merger.py:107: SettingWithCopyWarning: \n",
      "A value is trying to be set on a copy of a slice from a DataFrame.\n",
      "Try using .loc[row_indexer,col_indexer] = value instead\n",
      "\n",
      "See the caveats in the documentation: https://pandas.pydata.org/pandas-docs/stable/user_guide/indexing.html#returning-a-view-versus-a-copy\n",
      "  drugbank_df_id[identifier] = drugbank_df_id[identifier].astype(str)\n"
     ]
    },
    {
     "name": "stdout",
     "output_type": "stream",
     "text": [
      "run\n"
     ]
    },
    {
     "name": "stderr",
     "output_type": "stream",
     "text": [
      " 43%|████▎     | 3/7 [02:11<03:00, 45.22s/it]c:\\Users\\Charaf Kamel\\Desktop\\Kamel\\EPFL\\Semester_1\\ADA\\project_2\\HyperBabbage\\HyperBabbage\\drugbank_bindingdb_merger.py:106: SettingWithCopyWarning: \n",
      "A value is trying to be set on a copy of a slice from a DataFrame.\n",
      "Try using .loc[row_indexer,col_indexer] = value instead\n",
      "\n",
      "See the caveats in the documentation: https://pandas.pydata.org/pandas-docs/stable/user_guide/indexing.html#returning-a-view-versus-a-copy\n",
      "  binding_df_id[identifier] = binding_df_id[identifier].astype(str)\n"
     ]
    },
    {
     "name": "stdout",
     "output_type": "stream",
     "text": [
      "run\n"
     ]
    },
    {
     "name": "stderr",
     "output_type": "stream",
     "text": [
      " 57%|█████▋    | 4/7 [02:55<02:13, 44.51s/it]c:\\Users\\Charaf Kamel\\Desktop\\Kamel\\EPFL\\Semester_1\\ADA\\project_2\\HyperBabbage\\HyperBabbage\\drugbank_bindingdb_merger.py:107: SettingWithCopyWarning: \n",
      "A value is trying to be set on a copy of a slice from a DataFrame.\n",
      "Try using .loc[row_indexer,col_indexer] = value instead\n",
      "\n",
      "See the caveats in the documentation: https://pandas.pydata.org/pandas-docs/stable/user_guide/indexing.html#returning-a-view-versus-a-copy\n",
      "  drugbank_df_id[identifier] = drugbank_df_id[identifier].astype(str)\n",
      " 71%|███████▏  | 5/7 [03:01<01:01, 30.68s/it]c:\\Users\\Charaf Kamel\\Desktop\\Kamel\\EPFL\\Semester_1\\ADA\\project_2\\HyperBabbage\\HyperBabbage\\drugbank_bindingdb_merger.py:107: SettingWithCopyWarning: \n",
      "A value is trying to be set on a copy of a slice from a DataFrame.\n",
      "Try using .loc[row_indexer,col_indexer] = value instead\n",
      "\n",
      "See the caveats in the documentation: https://pandas.pydata.org/pandas-docs/stable/user_guide/indexing.html#returning-a-view-versus-a-copy\n",
      "  drugbank_df_id[identifier] = drugbank_df_id[identifier].astype(str)\n"
     ]
    },
    {
     "name": "stdout",
     "output_type": "stream",
     "text": [
      "run\n"
     ]
    },
    {
     "name": "stderr",
     "output_type": "stream",
     "text": [
      " 86%|████████▌ | 6/7 [03:06<00:21, 21.99s/it]c:\\Users\\Charaf Kamel\\Desktop\\Kamel\\EPFL\\Semester_1\\ADA\\project_2\\HyperBabbage\\HyperBabbage\\drugbank_bindingdb_merger.py:106: SettingWithCopyWarning: \n",
      "A value is trying to be set on a copy of a slice from a DataFrame.\n",
      "Try using .loc[row_indexer,col_indexer] = value instead\n",
      "\n",
      "See the caveats in the documentation: https://pandas.pydata.org/pandas-docs/stable/user_guide/indexing.html#returning-a-view-versus-a-copy\n",
      "  binding_df_id[identifier] = binding_df_id[identifier].astype(str)\n",
      "c:\\Users\\Charaf Kamel\\Desktop\\Kamel\\EPFL\\Semester_1\\ADA\\project_2\\HyperBabbage\\HyperBabbage\\drugbank_bindingdb_merger.py:107: SettingWithCopyWarning: \n",
      "A value is trying to be set on a copy of a slice from a DataFrame.\n",
      "Try using .loc[row_indexer,col_indexer] = value instead\n",
      "\n",
      "See the caveats in the documentation: https://pandas.pydata.org/pandas-docs/stable/user_guide/indexing.html#returning-a-view-versus-a-copy\n",
      "  drugbank_df_id[identifier] = drugbank_df_id[identifier].astype(str)\n"
     ]
    },
    {
     "name": "stdout",
     "output_type": "stream",
     "text": [
      "run\n"
     ]
    },
    {
     "name": "stderr",
     "output_type": "stream",
     "text": [
      "100%|██████████| 7/7 [03:50<00:00, 32.92s/it]\n",
      "c:\\Users\\Charaf Kamel\\Desktop\\Kamel\\EPFL\\Semester_1\\ADA\\project_2\\HyperBabbage\\HyperBabbage\\drugbank_bindingdb_merger.py:129: DtypeWarning: Columns (27,28,31) have mixed types. Specify dtype option on import or set low_memory=False.\n",
      "  return_df =  pd.read_csv(output_file)\n"
     ]
    },
    {
     "name": "stdout",
     "output_type": "stream",
     "text": [
      "Merged dataset is loaded and saved.\n"
     ]
    }
   ],
   "source": [
    "# Let's merge bindingDB and DrugBank (unless already saved)\n",
    "if os.path.exists(MERGED):\n",
    "    print(\"Merged dataset exists.\\n Loading...\")\n",
    "\n",
    "    merged_df = pd.read_pickle(MERGED)\n",
    "\n",
    "    print(\"Merged dataset loaded\")\n",
    "else:\n",
    "    print(\"Merged dataset doesn't exists.\\n Creating it...\")\n",
    "    drugbank_binding_merger = DrugBank_BindingDB_Merger()\n",
    "    incomplete_merged_df = drugbank_binding_merger.merge(drugbank_ligand, clean_binding_df)\n",
    "\n",
    "    merged_df = pd.merge(incomplete_merged_df, drugbank_proteins, how='left', on='swissprot_protein_id')\n",
    "    merged_df.to_pickle(MERGED)\n",
    "\n",
    "    print(\"Merged dataset is loaded and saved.\")\n"
   ]
  },
  {
   "cell_type": "code",
   "execution_count": 10,
   "metadata": {},
   "outputs": [
    {
     "data": {
      "text/plain": [
       "(2913285, 16581, 4906, 2913285)"
      ]
     },
     "execution_count": 10,
     "metadata": {},
     "output_type": "execute_result"
    }
   ],
   "source": [
    "len(merged_df), len(drugbank_ligand), len(drugbank_proteins), len(clean_binding_df)"
   ]
  },
  {
   "cell_type": "code",
   "execution_count": 11,
   "metadata": {},
   "outputs": [
    {
     "data": {
      "text/plain": [
       "Matched_On\n",
       "chebi_id       74894\n",
       "chembl_id      40535\n",
       "inchi_key      20032\n",
       "drugbank_id    15134\n",
       "smiles           792\n",
       "pubchem_cid        9\n",
       "Name: count, dtype: int64"
      ]
     },
     "execution_count": 11,
     "metadata": {},
     "output_type": "execute_result"
    }
   ],
   "source": [
    "merged_df['Matched_On'].value_counts()"
   ]
  },
  {
   "cell_type": "markdown",
   "metadata": {},
   "source": [
    "## DOIs\n",
    "In order to discover temporal trends, we need to fetch data about articles, from which BindingDB measurements were taken (i.e. the time when the measurement was published)."
   ]
  },
  {
   "cell_type": "code",
   "execution_count": 12,
   "metadata": {},
   "outputs": [
    {
     "name": "stdout",
     "output_type": "stream",
     "text": [
      "Number of unique dois: 40737\n"
     ]
    }
   ],
   "source": [
    "unique_dois = clean_binding_df['doi'].dropna().unique()\n",
    "print('Number of unique dois:', len(unique_dois))"
   ]
  },
  {
   "cell_type": "code",
   "execution_count": 13,
   "metadata": {},
   "outputs": [
    {
     "name": "stdout",
     "output_type": "stream",
     "text": [
      "Title: <i>N</i>-[[(5-Methyl-3-phenylisoxazol-4-yl)- phenyl]sulfonyl]propanamide, Sodium Salt, Parecoxib Sodium:  A Potent and Selective Inhibitor of COX-2 for Parenteral Administration\n",
      "Abstract: <NA>\n"
     ]
    }
   ],
   "source": [
    "\n",
    "def fetch_article_metadata(doi):\n",
    "    url = f\"https://api.crossref.org/works/{doi}\"\n",
    "    response = requests.get(url)\n",
    "    \n",
    "    if response.status_code == 200:\n",
    "        data = response.json()[\"message\"]\n",
    "        \n",
    "        title_list = data.get(\"title\", [])\n",
    "        title = title_list[0] if len(title_list) > 0 else pd.NA\n",
    "        abstract = data.get(\"abstract\", pd.NA)\n",
    "        # Get published year, month and day\n",
    "        published_date = data.get(\"published-print\", None)\n",
    "        if published_date:\n",
    "            published_date = published_date[\"date-parts\"][0]\n",
    "        else:\n",
    "            published_date = []\n",
    "        year = published_date[0] if len(published_date) > 0 else pd.NA\n",
    "        month = published_date[1] if len(published_date) > 1 else pd.NA\n",
    "        day = published_date[2] if len(published_date) > 2 else pd.NA\n",
    "\n",
    "        \n",
    "        \n",
    "        return {\n",
    "            \"title\": title,\n",
    "            \"abstract\": abstract,\n",
    "            \"year\": year,\n",
    "            \"month\": month,\n",
    "            \"day\": day\n",
    "        }\n",
    "    else:\n",
    "        print(f\"Failed to fetch data for DOI {doi}. Status code: {response.status_code}\")\n",
    "        return None\n",
    "\n",
    "# Example usage\n",
    "doi = np.random.choice(unique_dois)\n",
    "metadata = fetch_article_metadata(doi)\n",
    "\n",
    "if metadata:\n",
    "    print(\"Title:\", metadata[\"title\"])\n",
    "    print(\"Abstract:\", metadata[\"abstract\"])\n"
   ]
  },
  {
   "cell_type": "code",
   "execution_count": 14,
   "metadata": {},
   "outputs": [
    {
     "name": "stdout",
     "output_type": "stream",
     "text": [
      "No DOI dataframe found at data/clean/df_doi.pkl. Creating a new one...\n"
     ]
    }
   ],
   "source": [
    "if os.path.exists(DOI_DF_PATH):\n",
    "    df_dois = pd.read_pickle(DOI_DF_PATH)\n",
    "    print('Loaded doi_df from', DOI_DF_PATH)\n",
    "else:\n",
    "    print(f'No DOI dataframe found at {DOI_DF_PATH}. Creating a new one...')\n",
    "    cols = ['fetched', 'title', 'abstract', 'year', 'month', 'day']\n",
    "\n",
    "    # Create an empty dataframe with doi as index and cols with nans\n",
    "    df_dois = pd.DataFrame(index=unique_dois, columns=cols)\n",
    "    df_dois['fetched'] = False\n",
    "\n",
    "    df_dois.index.name = 'doi'\n",
    "    df_dois.head()\n",
    "    "
   ]
  },
  {
   "cell_type": "code",
   "execution_count": 15,
   "metadata": {},
   "outputs": [
    {
     "name": "stdout",
     "output_type": "stream",
     "text": [
      "Not all articles were fetched. Fetching DOIS\n"
     ]
    },
    {
     "name": "stderr",
     "output_type": "stream",
     "text": [
      "  4%|▍         | 1731/40737 [03:46<1:21:02,  8.02it/s]"
     ]
    },
    {
     "name": "stdout",
     "output_type": "stream",
     "text": [
      "Failed to fetch data for DOI 10.1002/1439-7633(20010504)2. Status code: 404\n"
     ]
    },
    {
     "name": "stderr",
     "output_type": "stream",
     "text": [
      "  4%|▍         | 1754/40737 [03:49<1:02:55, 10.33it/s]"
     ]
    },
    {
     "name": "stdout",
     "output_type": "stream",
     "text": [
      "Failed to fetch data for DOI 10.1002/1439-7633(20010601)2. Status code: 404\n",
      "Failed to fetch data for DOI 10.1002/1439-7633(20020902)3:9. Status code: 404\n"
     ]
    },
    {
     "name": "stderr",
     "output_type": "stream",
     "text": [
      "  4%|▍         | 1788/40737 [03:53<1:50:15,  5.89it/s]"
     ]
    },
    {
     "name": "stdout",
     "output_type": "stream",
     "text": [
      "Failed to fetch data for DOI 10.1002/1439-7633(20021004)3:10. Status code: 404\n"
     ]
    },
    {
     "name": "stderr",
     "output_type": "stream",
     "text": [
      "  5%|▍         | 1872/40737 [04:05<1:26:59,  7.45it/s]"
     ]
    },
    {
     "name": "stdout",
     "output_type": "stream",
     "text": [
      "Failed to fetch data for DOI 10.1002/(SICI)1098-2396(199702)25:2. Status code: 404\n"
     ]
    },
    {
     "name": "stderr",
     "output_type": "stream",
     "text": [
      "  5%|▍         | 1968/40737 [04:18<1:23:55,  7.70it/s]"
     ]
    },
    {
     "name": "stdout",
     "output_type": "stream",
     "text": [
      "Failed to fetch data for DOI 10.1002/(SICI)1098-2396(19990601)32:3. Status code: 404\n"
     ]
    },
    {
     "name": "stderr",
     "output_type": "stream",
     "text": [
      "  5%|▍         | 1994/40737 [04:21<1:11:15,  9.06it/s]"
     ]
    },
    {
     "name": "stdout",
     "output_type": "stream",
     "text": [
      "Failed to fetch data for DOI 28357. Status code: 404\n"
     ]
    },
    {
     "name": "stderr",
     "output_type": "stream",
     "text": [
      "  5%|▍         | 2013/40737 [04:23<1:00:31, 10.66it/s]"
     ]
    },
    {
     "name": "stdout",
     "output_type": "stream",
     "text": [
      "Failed to fetch data for DOI 10.1002/1098-2396(20001215)38:4. Status code: 404\n",
      "Failed to fetch data for DOI 10.1002/1098-2396(20010101)39:1. Status code: 404\n"
     ]
    },
    {
     "name": "stderr",
     "output_type": "stream",
     "text": [
      "  5%|▍         | 2034/40737 [04:26<1:23:12,  7.75it/s]"
     ]
    },
    {
     "name": "stdout",
     "output_type": "stream",
     "text": [
      "Failed to fetch data for DOI 10.1002/1520-636X(2001)13:3. Status code: 404\n"
     ]
    },
    {
     "name": "stderr",
     "output_type": "stream",
     "text": [
      "  6%|▌         | 2386/40737 [05:13<1:13:30,  8.70it/s]"
     ]
    },
    {
     "name": "stdout",
     "output_type": "stream",
     "text": [
      "Failed to fetch data for DOI 0.1007/s00044-005-0126-y. Status code: 404\n"
     ]
    },
    {
     "name": "stderr",
     "output_type": "stream",
     "text": [
      " 48%|████▊     | 19665/40737 [43:21<46:27,  7.56it/s]  \n"
     ]
    },
    {
     "name": "stdout",
     "output_type": "stream",
     "text": [
      "Error, saving WIP.\n"
     ]
    }
   ],
   "source": [
    "def fetch_and_update(doi):\n",
    "    if df_dois.loc[doi, 'fetched']:\n",
    "        return None\n",
    "\n",
    "    # Fetch article metadata with a random delay\n",
    "    article_info = fetch_article_metadata(doi)\n",
    "    if article_info is None:\n",
    "        df_dois.loc[doi, 'fetched'] = True\n",
    "        return None\n",
    "    for key, value in article_info.items():\n",
    "        df_dois.loc[doi, key] = value\n",
    "    df_dois.loc[doi, 'fetched'] = True\n",
    "    \n",
    "    # Sleep for a short, random time to avoid triggering rate limits\n",
    "    time.sleep(random.uniform(0.05, .5))\n",
    "\n",
    "if df_dois.fetched.all():\n",
    "    print('All articles were fetched. Saving df_dois')\n",
    "    df_dois.to_pickle(DOI_DF_PATH)\n",
    "else:\n",
    "    print('Not all articles were fetched. Fetching DOIS')\n",
    "    try:\n",
    "        with ThreadPoolExecutor(max_workers=5) as executor:\n",
    "            list(tqdm(executor.map(fetch_and_update, df_dois.index), total=len(df_dois.index)))\n",
    "    except: \n",
    "        print('Error, saving WIP.')\n",
    "        df_dois.to_pickle(DOI_DF_PATH)\n",
    "    \n"
   ]
  },
  {
   "cell_type": "code",
   "execution_count": null,
   "metadata": {},
   "outputs": [],
   "source": [
    "# Now all the DOIs should be fetched using the API and the result saved in the dataframe\n",
    "assert df_dois['fetched'].all()"
   ]
  },
  {
   "cell_type": "code",
   "execution_count": null,
   "metadata": {},
   "outputs": [
    {
     "data": {
      "text/plain": [
       "fetched     0.000000\n",
       "title       0.000687\n",
       "abstract    0.000295\n",
       "year        0.002848\n",
       "month       0.004198\n",
       "day         0.627292\n",
       "dtype: float64"
      ]
     },
     "execution_count": 77,
     "metadata": {},
     "output_type": "execute_result"
    }
   ],
   "source": [
    "# Show percentage of missing values per column?\n",
    "# We see abstract and day (of month) are not going to be very useful, but for the rest we almost always have data\n",
    "df_dois.isnull().mean()"
   ]
  },
  {
   "cell_type": "code",
   "execution_count": null,
   "metadata": {},
   "outputs": [
    {
     "data": {
      "text/plain": [
       "<Axes: >"
      ]
     },
     "execution_count": 78,
     "metadata": {},
     "output_type": "execute_result"
    },
    {
     "data": {
      "image/png": "[encoded data removed]",
      "text/plain": [
       "<Figure size 640x480 with 1 Axes>"
      ]
     },
     "metadata": {},
     "output_type": "display_data"
    }
   ],
   "source": [
    "# Note, that most articles have more measuremetns in them\n",
    "df_dois['year'].hist()"
   ]
  },
  {
   "cell_type": "markdown",
   "metadata": {},
   "source": [
    "### Initial analysis on the affect of ligands to cancer related proteins "
   ]
  },
  {
   "cell_type": "markdown",
   "metadata": {},
   "source": []
  },
  {
   "cell_type": "code",
   "execution_count": 38,
   "metadata": {},
   "outputs": [],
   "source": [
    "cancer_keywords= [\n",
    "    # General Cancer Terms\n",
    "    \"Cancer\", \"Tumor\", \"Carcinoma\", \"Sarcoma\", \"Malignancy\", \"Neoplasm\", \n",
    "    \"Metastasis\", \"Oncogene\", \"Antineoplastic\", \"Chemotherapy\", \n",
    "    \"Radiotherapy\", \"Immunotherapy\", \"Targeted therapy\", \"Cytotoxic\", \"Cancerous\"\n",
    "    \n",
    "    # Types of Cancer - Common Solid Tumors\n",
    "    \"Breast cancer\", \"Lung cancer\", \"Colorectal cancer\", \"Pancreatic cancer\", \n",
    "    \"Prostate cancer\", \"Melanoma\", \"Ovarian cancer\", \"Brain tumor\", \n",
    "    \"Liver cancer\", \"Gastric cancer\", \"Esophageal cancer\", \"Kidney cancer\",\n",
    "    \n",
    "    # Types of Cancer - Hematological Malignancies\n",
    "    \"Leukemia\", \"Lymphoma\", \"Myeloma\", \"Hodgkin's lymphoma\", \n",
    "    \"Non-Hodgkin's lymphoma\", \"Chronic lymphocytic leukemia (CLL)\", \n",
    "    \"Acute myeloid leukemia (AML)\",\n",
    "    \n",
    "    # Molecular Targets and Mechanisms - Proteins\n",
    "    \"Tyrosine kinase\", \"EGFR\", \"HER2\", \"VEGF\", \"PD-1\", \"PD-L1\", \n",
    "    \"CTLA-4\", \"BCL-2\",\n",
    "    \n",
    "    # Molecular Targets and Mechanisms - Genes and Pathways\n",
    "    \"KRAS\", \"TP53\", \"BRCA1\", \"BRCA2\", \"MYC\", \"PI3K\", \"RAS/RAF/MEK/ERK pathway\", \n",
    "    \"JAK/STAT pathway\", \"Wnt signaling\", \"Hedgehog pathway\",\n",
    "    \n",
    "    # Molecular Targets and Mechanisms - Drug Mechanisms\n",
    "    \"Apoptosis inducer\", \"Angiogenesis inhibitor\", \"DNA alkylation\", \n",
    "    \"DNA intercalation\", \"Topoisomerase inhibitor\", \"Microtubule stabilizer\", \n",
    "    \"Immune checkpoint inhibitor\",\n",
    "    \n",
    "    # Specific Drug Classes\n",
    "    \"Alkylating agents\", \"Antimetabolites\", \"Anthracyclines\", \"Taxanes\", \n",
    "    \"Platinum compounds\", \"Monoclonal antibodies\", \"PARP inhibitors\", \n",
    "    \"CDK inhibitors\", \"HDAC inhibitors\", \"Proteasome inhibitors\", \n",
    "    \"mTOR inhibitors\",\n",
    "    \n",
    "    # Treatment-Related Terms\n",
    "    \"Cytotoxicity\", \"Resistance\", \"Hormone therapy\", \"Anti-angiogenic\", \n",
    "    \"Cell cycle arrest\", \"Radiosensitizer\", \"Synergistic therapy\",\n",
    "    \n",
    "    # Emerging Terms\n",
    "    \"Precision oncology\", \"Epigenetic modulation\", \n",
    "    \"Adoptive cell therapy\", \"CAR-T cell therapy\", \"Tumor microenvironment\", \n",
    "    \"Cancer stem cells\"\n",
    "]"
   ]
  },
  {
   "cell_type": "markdown",
   "metadata": {},
   "source": [
    "**We will rely on other columns (like Target Name) and further metadata to get the cancers and mutants more accurately**"
   ]
  },
  {
   "cell_type": "code",
   "execution_count": 39,
   "metadata": {},
   "outputs": [],
   "source": [
    "import re\n",
    "\n",
    "# Create a single regex pattern from the list of terms (case-insensitive)\n",
    "pattern = '|'.join(rf\"\\b{re.escape(term)}\\b\" for term in cancer_keywords)\n",
    "\n",
    "# Filter rows where \"specific-description\" contains any of the cancer terms\n",
    "filtered_df = merged_df[merged_df['specific-function'].str.contains(pattern, case=False, na=False)]"
   ]
  },
  {
   "cell_type": "code",
   "execution_count": null,
   "metadata": {},
   "outputs": [],
   "source": [
    "\n",
    "mutant_keywords = [\n",
    "    \"mutation\",\n",
    "    \"oncogenesis\", \"tumorigenesis\", \"apoptosis\", \"angiogenesis\", \"HER2\", \"BRAF\", \"KRAS\", \"EGFR\",\n",
    "    \"BRCA1\", \"BRCA2\", \"P53\", \"MDM2\", \"CDK4\", \"CDK6\", \"V600\", \"G12\"\n",
    "]\n"
   ]
  },
  {
   "cell_type": "code",
   "execution_count": null,
   "metadata": {},
   "outputs": [],
   "source": [
    "pattern_mutant = '|'.join(rf\"\\b{re.escape(term)}\\b\" for term in mutant_keywords)\n",
    "\n",
    "# Filter rows where \"specific-description\" contains any of the mutant terms\n",
    "mutant_df = filtered_df[filtered_df['specific-function'].str.contains(pattern_mutant, case=False, na=False)]"
   ]
  },
  {
   "cell_type": "code",
   "execution_count": 47,
   "metadata": {},
   "outputs": [
    {
     "name": "stdout",
     "output_type": "stream",
     "text": [
      "We have 26535 cancer related proteins and out of them possibly 17664 are mutant related\n"
     ]
    }
   ],
   "source": [
    "print(f\"We have {len(filtered_df)} cancer related proteins and out of them possibly {len(mutant_df)} are mutant related\")"
   ]
  },
  {
   "cell_type": "code",
   "execution_count": 81,
   "metadata": {},
   "outputs": [],
   "source": [
    "affinity_cols = [\"ki\", \"kd\"] ## Measures of binding affinity\n",
    "ec_ic = [\"ic50\"] #### Measures of inhibitory (IC50) and effective concentrations (EC50)\n",
    "bind_unbind = [\"kon\"] ## Rates of binding / unbinding of ligands\n",
    "\n",
    "binding_ligand_efficency_cols = affinity_cols + ec_ic + bind_unbind"
   ]
  },
  {
   "cell_type": "markdown",
   "metadata": {},
   "source": [
    "#### Visualizing basic numerical data about the ligand-protein binding efficency and the environment in which they were tested"
   ]
  },
  {
   "cell_type": "code",
   "execution_count": null,
   "metadata": {},
   "outputs": [
    {
     "data": {
      "image/png": "[encoded data removed]",
      "text/plain": [
       "<Figure size 640x480 with 1 Axes>"
      ]
     },
     "metadata": {},
     "output_type": "display_data"
    }
   ],
   "source": [
    "for i in range(len(affinity_cols)):\n",
    "    plt.boxplot(filtered_df[affinity_cols[i]].dropna(), positions = [i], widths=0.5)\n",
    "plt.title(\"Measures of binding affinitiy\")\n",
    "plt.xticks(range(len(affinity_cols)), affinity_cols)\n",
    "plt.yscale('log')\n",
    "plt.show()"
   ]
  },
  {
   "cell_type": "code",
   "execution_count": 88,
   "metadata": {},
   "outputs": [
    {
     "data": {
      "image/png": "[encoded data removed]",
      "text/plain": [
       "<Figure size 640x480 with 1 Axes>"
      ]
     },
     "metadata": {},
     "output_type": "display_data"
    }
   ],
   "source": [
    "plt.boxplot(filtered_df[\"ic50\"].dropna(), positions = [i], widths=0.5)\n",
    "plt.title(\"Measures of inhibitory (IC50)\")\n",
    "plt.xticks(range(len(ec_ic)), ec_ic)\n",
    "#plt.ylim([-0.3, 1000])\n",
    "plt.yscale('log')\n",
    "plt.show()"
   ]
  },
  {
   "cell_type": "code",
   "execution_count": 89,
   "metadata": {},
   "outputs": [
    {
     "data": {
      "text/plain": [
       "Text(0.5, 1.0, 'Histogram of NaN percentages for columns')"
      ]
     },
     "execution_count": 89,
     "metadata": {},
     "output_type": "execute_result"
    },
    {
     "data": {
      "image/png": "[encoded data removed]",
      "text/plain": [
       "<Figure size 640x480 with 1 Axes>"
      ]
     },
     "metadata": {},
     "output_type": "display_data"
    }
   ],
   "source": [
    "nan_counts_per_col = merged_df.isna().mean(axis=0)*100\n",
    "nan_counts_per_col.plot(kind='bar', color='skyblue', edgecolor='black')\n",
    "plt.title(\"Histogram of NaN percentages for columns\")"
   ]
  },
  {
   "cell_type": "code",
   "execution_count": 108,
   "metadata": {},
   "outputs": [
    {
     "data": {
      "text/plain": [
       "Text(0.5, 0, 'ph')"
      ]
     },
     "execution_count": 108,
     "metadata": {},
     "output_type": "execute_result"
    },
    {
     "data": {
      "image/png": "[encoded data removed]",
      "text/plain": [
       "<Figure size 1200x600 with 1 Axes>"
      ]
     },
     "metadata": {},
     "output_type": "display_data"
    }
   ],
   "source": [
    "plt.figure(figsize=(12, 6)) \n",
    "merged_df['ph'].hist(bins = 50)\n",
    "plt.xticks(np.arange(15))\n",
    "plt.title(\"ph values\")\n",
    "plt.xlabel(\"ph\")\n"
   ]
  },
  {
   "cell_type": "code",
   "execution_count": 107,
   "metadata": {},
   "outputs": [
    {
     "data": {
      "text/plain": [
       "Text(0.5, 0, 'Celsius degrees')"
      ]
     },
     "execution_count": 107,
     "metadata": {},
     "output_type": "execute_result"
    },
    {
     "data": {
      "image/png": "[encoded data removed]",
      "text/plain": [
       "<Figure size 1200x600 with 1 Axes>"
      ]
     },
     "metadata": {},
     "output_type": "display_data"
    }
   ],
   "source": [
    "plt.figure(figsize=(12, 6)) \n",
    "merged_df['temp'].hist(bins = 500)\n",
    "plt.title(\"Temperature values in Celsius\")\n",
    "plt.xlim([0, 100])\n",
    "plt.xlabel(\"Celsius degrees\")"
   ]
  },
  {
   "cell_type": "markdown",
   "metadata": {},
   "source": [
    "### Mutations\n",
    "- Correlation between metrics of biding affinity, dosage, etc\n",
    "- Possibly trying to see some groupings of data points (similarity in structure, metrics, types of disease being fought, ...)"
   ]
  },
  {
   "cell_type": "code",
   "execution_count": 109,
   "metadata": {},
   "outputs": [],
   "source": [
    "import seaborn as sns\n",
    "import networkx as nx\n",
    "import statsmodels.api as sm\n",
    "import statsmodels.formula.api as smf\n",
    "\n",
    "from statsmodels.stats import diagnostic\n",
    "from scipy import stats\n"
   ]
  },
  {
   "cell_type": "code",
   "execution_count": 134,
   "metadata": {},
   "outputs": [],
   "source": [
    "merged_df_2 = merged_df[[\"ki\", \"ic50\", \"kd\", \"ph\", \"temp\"]].dropna()"
   ]
  },
  {
   "cell_type": "code",
   "execution_count": 135,
   "metadata": {},
   "outputs": [
    {
     "data": {
      "text/html": [
       "<div>\n",
       "<style scoped>\n",
       "    .dataframe tbody tr th:only-of-type {\n",
       "        vertical-align: middle;\n",
       "    }\n",
       "\n",
       "    .dataframe tbody tr th {\n",
       "        vertical-align: top;\n",
       "    }\n",
       "\n",
       "    .dataframe thead th {\n",
       "        text-align: right;\n",
       "    }\n",
       "</style>\n",
       "<table border=\"1\" class=\"dataframe\">\n",
       "  <thead>\n",
       "    <tr style=\"text-align: right;\">\n",
       "      <th></th>\n",
       "      <th>ki</th>\n",
       "      <th>ic50</th>\n",
       "      <th>kd</th>\n",
       "      <th>ph</th>\n",
       "      <th>temp</th>\n",
       "    </tr>\n",
       "  </thead>\n",
       "  <tbody>\n",
       "    <tr>\n",
       "      <th>32414</th>\n",
       "      <td>50.0</td>\n",
       "      <td>2000.0</td>\n",
       "      <td>270.0</td>\n",
       "      <td>7.5</td>\n",
       "      <td>25.0</td>\n",
       "    </tr>\n",
       "    <tr>\n",
       "      <th>403630</th>\n",
       "      <td>5500.0</td>\n",
       "      <td>19600.0</td>\n",
       "      <td>496.0</td>\n",
       "      <td>7.3</td>\n",
       "      <td>25.0</td>\n",
       "    </tr>\n",
       "    <tr>\n",
       "      <th>403631</th>\n",
       "      <td>91100.0</td>\n",
       "      <td>335000.0</td>\n",
       "      <td>954.0</td>\n",
       "      <td>7.3</td>\n",
       "      <td>25.0</td>\n",
       "    </tr>\n",
       "    <tr>\n",
       "      <th>403633</th>\n",
       "      <td>2800.0</td>\n",
       "      <td>9900.0</td>\n",
       "      <td>256.0</td>\n",
       "      <td>7.3</td>\n",
       "      <td>25.0</td>\n",
       "    </tr>\n",
       "    <tr>\n",
       "      <th>403635</th>\n",
       "      <td>2000.0</td>\n",
       "      <td>7200.0</td>\n",
       "      <td>264.0</td>\n",
       "      <td>7.3</td>\n",
       "      <td>25.0</td>\n",
       "    </tr>\n",
       "    <tr>\n",
       "      <th>403637</th>\n",
       "      <td>9600.0</td>\n",
       "      <td>34100.0</td>\n",
       "      <td>380.0</td>\n",
       "      <td>7.3</td>\n",
       "      <td>25.0</td>\n",
       "    </tr>\n",
       "    <tr>\n",
       "      <th>403638</th>\n",
       "      <td>96600.0</td>\n",
       "      <td>341000.0</td>\n",
       "      <td>496.0</td>\n",
       "      <td>7.4</td>\n",
       "      <td>25.0</td>\n",
       "    </tr>\n",
       "    <tr>\n",
       "      <th>403639</th>\n",
       "      <td>14900.0</td>\n",
       "      <td>52700.0</td>\n",
       "      <td>291.0</td>\n",
       "      <td>7.4</td>\n",
       "      <td>25.0</td>\n",
       "    </tr>\n",
       "    <tr>\n",
       "      <th>403640</th>\n",
       "      <td>355500.0</td>\n",
       "      <td>1258500.0</td>\n",
       "      <td>264.0</td>\n",
       "      <td>7.4</td>\n",
       "      <td>25.0</td>\n",
       "    </tr>\n",
       "  </tbody>\n",
       "</table>\n",
       "</div>"
      ],
      "text/plain": [
       "              ki       ic50     kd   ph  temp\n",
       "32414       50.0     2000.0  270.0  7.5  25.0\n",
       "403630    5500.0    19600.0  496.0  7.3  25.0\n",
       "403631   91100.0   335000.0  954.0  7.3  25.0\n",
       "403633    2800.0     9900.0  256.0  7.3  25.0\n",
       "403635    2000.0     7200.0  264.0  7.3  25.0\n",
       "403637    9600.0    34100.0  380.0  7.3  25.0\n",
       "403638   96600.0   341000.0  496.0  7.4  25.0\n",
       "403639   14900.0    52700.0  291.0  7.4  25.0\n",
       "403640  355500.0  1258500.0  264.0  7.4  25.0"
      ]
     },
     "execution_count": 135,
     "metadata": {},
     "output_type": "execute_result"
    }
   ],
   "source": [
    "merged_df_2"
   ]
  },
  {
   "cell_type": "code",
   "execution_count": 128,
   "metadata": {},
   "outputs": [
    {
     "name": "stdout",
     "output_type": "stream",
     "text": [
      "(0.3316297918004256, 0.005464736952897225)\n",
      "(0.45962321542124196, 0.0015567131690047327)\n",
      "(0.3329414971146777, 0.005055785987452595)\n",
      "(0.4610074446102134, 0.0014676254914479862)\n",
      "(0.25237112659389244, 0.09962614601795748)\n",
      "(0.4661401359792068, 0.001137290343683231)\n"
     ]
    }
   ],
   "source": [
    "print(diagnostic.kstest_normal(merged_df_2[\"ki\"].values, dist = 'norm'))\n",
    "print(diagnostic.kstest_normal(merged_df_2[\"ki\"].values, dist = 'exp'))\n",
    "print(diagnostic.kstest_normal(merged_df_2[\"ic50\"].values, dist = 'norm'))\n",
    "print(diagnostic.kstest_normal(merged_df_2[\"ic50\"].values, dist = 'exp'))\n",
    "print(diagnostic.kstest_normal(merged_df_2[\"kd\"].values, dist = 'norm'))\n",
    "print(diagnostic.kstest_normal(merged_df_2[\"kd\"].values, dist = 'exp'))"
   ]
  }
 ],
 "metadata": {
  "kernelspec": {
   "display_name": "epfl-master",
   "language": "python",
   "name": "python3"
  },
  "language_info": {
   "codemirror_mode": {
    "name": "ipython",
    "version": 3
   },
   "file_extension": ".py",
   "mimetype": "text/x-python",
   "name": "python",
   "nbconvert_exporter": "python",
   "pygments_lexer": "ipython3",
   "version": "3.11.9"
  }
 },
 "nbformat": 4,
 "nbformat_minor": 2
}
