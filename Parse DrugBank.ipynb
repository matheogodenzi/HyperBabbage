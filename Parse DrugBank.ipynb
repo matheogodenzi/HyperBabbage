{
 "cells": [
  {
   "cell_type": "markdown",
   "metadata": {},
   "source": [
    "# Parse the DrugBank XML and export as CSV"
   ]
  },
  {
   "cell_type": "code",
   "execution_count": 15,
   "metadata": {
    "collapsed": true
   },
   "outputs": [],
   "source": [
    "from tqdm import tqdm\n",
    "import pandas as pd\n",
    "from lxml import etree"
   ]
  },
  {
   "cell_type": "code",
   "execution_count": 2,
   "metadata": {},
   "outputs": [],
   "source": [
    "# Create a parser\n",
    "parser = etree.XMLParser(recover=True)\n",
    "\n",
    "parsed_file = etree.parse('full database.xml', parser=parser)"
   ]
  },
  {
   "cell_type": "code",
   "execution_count": 3,
   "metadata": {},
   "outputs": [],
   "source": [
    "root = parsed_file.getroot()\n",
    "drugs = list(root)"
   ]
  },
  {
   "cell_type": "markdown",
   "metadata": {},
   "source": [
    "### Testing the XML parsing"
   ]
  },
  {
   "cell_type": "code",
   "execution_count": 80,
   "metadata": {},
   "outputs": [
    {
     "name": "stdout",
     "output_type": "stream",
     "text": [
      "CHEBI 6427\n",
      "PubChem Substance 46507635\n",
      "BindingDB 50369395\n",
      "CHEMBL CHEMBL1201199\n",
      "Drugs Product Database (DPD)|Drugs Product Database (DPD)|ChEBI|PubChem Substance|KEGG Compound|KEGG Drug|ChemSpider|BindingDB|PharmGKB|Therapeutic Targets Database|Wikipedia|ChEMBL|RxCUI\n",
      "[<Element {http://www.drugbank.ca}external-identifier at 0x278da66d840>, <Element {http://www.drugbank.ca}external-identifier at 0x278da66e7c0>, <Element {http://www.drugbank.ca}external-identifier at 0x278da66ebc0>, <Element {http://www.drugbank.ca}external-identifier at 0x278da66df40>, <Element {http://www.drugbank.ca}external-identifier at 0x278da66e180>, <Element {http://www.drugbank.ca}external-identifier at 0x278da66d800>, <Element {http://www.drugbank.ca}external-identifier at 0x278da66f500>, <Element {http://www.drugbank.ca}external-identifier at 0x278da66f780>, <Element {http://www.drugbank.ca}external-identifier at 0x278da66d040>, <Element {http://www.drugbank.ca}external-identifier at 0x278da66fd40>, <Element {http://www.drugbank.ca}external-identifier at 0x278da66fd00>, <Element {http://www.drugbank.ca}external-identifier at 0x278da66fb40>, <Element {http://www.drugbank.ca}external-identifier at 0x278da680f00>]\n"
     ]
    }
   ],
   "source": [
    "for i in drugs[6]:\n",
    "    if 'external-identifiers' in str(i): # drug's categories\n",
    "        drug_categories = '|'.join([cat[0].text \\\n",
    "                                    for cat in list(i)])\n",
    "        \n",
    "        for ext in list(i):\n",
    "            if str(ext[0].text) == 'ChEMBL':\n",
    "                print('CHEMBL', ext[1].text)\n",
    "            if str(ext[0].text) == 'ChEBI':\n",
    "                print('CHEBI', ext[1].text)\n",
    "            if str(ext[0].text) == 'PubChem Substance':\n",
    "                print('PubChem Substance', ext[1].text)\n",
    "            if str(ext[0].text) == 'BindingDB':\n",
    "                print('BindingDB', ext[1].text)\n",
    "\n",
    "\n",
    "        print(drug_categories)\n",
    "        print(list(i))\n",
    "    #print(i)"
   ]
  },
  {
   "cell_type": "markdown",
   "metadata": {},
   "source": [
    "### Parsing"
   ]
  },
  {
   "cell_type": "code",
   "execution_count": 86,
   "metadata": {},
   "outputs": [
    {
     "name": "stderr",
     "output_type": "stream",
     "text": [
      "100%|██████████| 16581/16581 [00:03<00:00, 4792.61it/s]\n"
     ]
    }
   ],
   "source": [
    "parsed_drugs = []\n",
    "\n",
    "for i in tqdm(range(len(drugs))):\n",
    "    drug = drugs[i]\n",
    "    drug_properties = {}\n",
    "\n",
    "    idDB = drug[0].text # Drug Bank ID\n",
    "    drug_properties['id'] = idDB\n",
    "\n",
    "    for idx,feature in enumerate(drug):\n",
    "        featureName = feature.tag\n",
    "\n",
    "        if 'name' in featureName: # drug name\n",
    "            drug_properties['name'] = feature.text\n",
    "\n",
    "        if 'synonyms' in featureName: # drug's synonyms\n",
    "            drug_synm = '|'.join([synm.text for synm in list(feature)])\n",
    "            drug_properties['synonyms'] = drug_synm\n",
    "            \n",
    "        if 'toxicity' in featureName: # drug's toxicity\n",
    "            drug_properties['toxicity'] = feature.text\n",
    "\n",
    "        if 'unii' in featureName: # drug's UNII\n",
    "            drug_properties['unii'] = feature.text\n",
    "\n",
    "        if 'categories' in featureName: # drug's categories\n",
    "            drug_categories = '|'.join([cat[0].text for cat in list(feature)])\n",
    "            drug_properties['categories'] = drug_categories\n",
    "\n",
    "        if 'classification' in featureName: #type of drug\n",
    "            classifications = list(feature)\n",
    "            drug_class_kingdom = classifications[2].text\n",
    "            drug_class_superclass = classifications[3].text\n",
    "            drug_properties['class_kingdom'] = drug_class_kingdom\n",
    "            drug_properties['class_superclass'] = drug_class_superclass\n",
    "\n",
    "        if 'drug-interactions' in featureName: #interaction other drugs\n",
    "            drug_interaction = '|'.join([di[0].text\n",
    "                                        for di in list(feature)])\n",
    "            drug_properties['interaction'] = drug_interaction\n",
    "            \n",
    "        if 'patents' in featureName:\n",
    "            patents_list = list(feature)\n",
    "            if len(patents_list) > 0:\n",
    "                drug_patent_approved = '|'.join([cat[2].text for cat in patents_list])\n",
    "                drug_properties['patent_approved'] = drug_patent_approved\n",
    "\n",
    "        if 'calculated-properties' in featureName: # drug's categories\n",
    "            for calc_prop in list(feature):\n",
    "                prop_name = calc_prop[0].text\n",
    "                if 'SMILES' in prop_name:\n",
    "                    drug_SMILE = calc_prop[1].text\n",
    "                    drug_properties['SMILES'] = drug_SMILE\n",
    "\n",
    "                if 'InChI' in prop_name:\n",
    "                    drugInChI = calc_prop[1].text\n",
    "                    drug_properties['InChI'] = drugInChI\n",
    "\n",
    "        if 'external-identifiers' in featureName: #other drug's IDs\n",
    "            feature_list = list(feature)\n",
    "\n",
    "            for ext in feature_list:\n",
    "                if str(ext[0].text) == 'ChEMBL':\n",
    "                    drug_properties['chembl'] = ext[1].text\n",
    "                if str(ext[0].text) == 'ChEBI':\n",
    "                    drug_properties['chebi'] = ext[1].text\n",
    "                if str(ext[0].text) == 'PubChem Substance':\n",
    "                    drug_properties['pubchem'] = ext[1].text\n",
    "                if str(ext[0].text) == 'BindingDB':\n",
    "                    drug_properties['bindingdb'] = ext[1].text\n",
    "\n",
    "                                  \n",
    "        # if 'pathways' in featureName: #related pathways\n",
    "        #     drug_pathway = ';'.join([pathway[1].text \\\n",
    "        #                             for pathway in list(feature)])\n",
    "\n",
    "        # if 'targets' in featureName: #if polypeptide, drug's targets\n",
    "        #     targets = list(feature)\n",
    "    \n",
    "    parsed_drugs.append(drug_properties)"
   ]
  },
  {
   "cell_type": "code",
   "execution_count": 87,
   "metadata": {},
   "outputs": [],
   "source": [
    "df = pd.DataFrame(parsed_drugs)"
   ]
  },
  {
   "cell_type": "code",
   "execution_count": 89,
   "metadata": {},
   "outputs": [
    {
     "data": {
      "text/html": [
       "<div>\n",
       "<style scoped>\n",
       "    .dataframe tbody tr th:only-of-type {\n",
       "        vertical-align: middle;\n",
       "    }\n",
       "\n",
       "    .dataframe tbody tr th {\n",
       "        vertical-align: top;\n",
       "    }\n",
       "\n",
       "    .dataframe thead th {\n",
       "        text-align: right;\n",
       "    }\n",
       "</style>\n",
       "<table border=\"1\" class=\"dataframe\">\n",
       "  <thead>\n",
       "    <tr style=\"text-align: right;\">\n",
       "      <th></th>\n",
       "      <th>id</th>\n",
       "      <th>name</th>\n",
       "      <th>unii</th>\n",
       "      <th>toxicity</th>\n",
       "      <th>class_kingdom</th>\n",
       "      <th>class_superclass</th>\n",
       "      <th>synonyms</th>\n",
       "      <th>categories</th>\n",
       "      <th>patent_approved</th>\n",
       "      <th>interaction</th>\n",
       "      <th>pubchem</th>\n",
       "      <th>chembl</th>\n",
       "      <th>SMILES</th>\n",
       "      <th>InChI</th>\n",
       "      <th>chebi</th>\n",
       "      <th>bindingdb</th>\n",
       "    </tr>\n",
       "  </thead>\n",
       "  <tbody>\n",
       "    <tr>\n",
       "      <th>0</th>\n",
       "      <td>DB00001</td>\n",
       "      <td>Lepirudin</td>\n",
       "      <td>Y43GF64R34</td>\n",
       "      <td>The acute toxicity of intravenous lepirudin wa...</td>\n",
       "      <td>Organic Compounds</td>\n",
       "      <td>Organic Acids</td>\n",
       "      <td>[Leu1, Thr2]-63-desulfohirudin|Desulfatohirudi...</td>\n",
       "      <td>Amino Acids, Peptides, and Proteins|Anticoagul...</td>\n",
       "      <td>1993-01-19</td>\n",
       "      <td>DB06605|DB06695|DB01254|DB01609|DB01586|DB0212...</td>\n",
       "      <td>46507011</td>\n",
       "      <td>CHEMBL1201666</td>\n",
       "      <td>NaN</td>\n",
       "      <td>NaN</td>\n",
       "      <td>NaN</td>\n",
       "      <td>NaN</td>\n",
       "    </tr>\n",
       "    <tr>\n",
       "      <th>1</th>\n",
       "      <td>DB00002</td>\n",
       "      <td>Cetuximab</td>\n",
       "      <td>PQX0D8J21J</td>\n",
       "      <td>The intravenous LD&lt;sub&gt;50&lt;/sub&gt; is &gt; 300 mg/kg...</td>\n",
       "      <td>Organic Compounds</td>\n",
       "      <td>Organic Acids</td>\n",
       "      <td>Cetuximab|Cétuximab|Cetuximabum</td>\n",
       "      <td>Amino Acids, Peptides, and Proteins|Antibodies...</td>\n",
       "      <td>1999-03-02</td>\n",
       "      <td>DB00255|DB00269|DB00286|DB00655|DB00783|DB0089...</td>\n",
       "      <td>46507042</td>\n",
       "      <td>CHEMBL1201577</td>\n",
       "      <td>NaN</td>\n",
       "      <td>NaN</td>\n",
       "      <td>NaN</td>\n",
       "      <td>NaN</td>\n",
       "    </tr>\n",
       "    <tr>\n",
       "      <th>2</th>\n",
       "      <td>DB00003</td>\n",
       "      <td>Dornase alfa</td>\n",
       "      <td>953A26OA1Y</td>\n",
       "      <td>Adverse reactions occur at a frequency of &lt; 1/...</td>\n",
       "      <td>Organic Compounds</td>\n",
       "      <td>Organic Acids</td>\n",
       "      <td>Deoxyribonuclease (human clone 18-1 protein mo...</td>\n",
       "      <td>Amino Acids, Peptides, and Proteins|Cough and ...</td>\n",
       "      <td>2005-02-22|2004-10-26</td>\n",
       "      <td></td>\n",
       "      <td>46507792</td>\n",
       "      <td>CHEMBL1201431</td>\n",
       "      <td>NaN</td>\n",
       "      <td>NaN</td>\n",
       "      <td>NaN</td>\n",
       "      <td>NaN</td>\n",
       "    </tr>\n",
       "  </tbody>\n",
       "</table>\n",
       "</div>"
      ],
      "text/plain": [
       "        id          name        unii  \\\n",
       "0  DB00001     Lepirudin  Y43GF64R34   \n",
       "1  DB00002     Cetuximab  PQX0D8J21J   \n",
       "2  DB00003  Dornase alfa  953A26OA1Y   \n",
       "\n",
       "                                            toxicity      class_kingdom  \\\n",
       "0  The acute toxicity of intravenous lepirudin wa...  Organic Compounds   \n",
       "1  The intravenous LD<sub>50</sub> is > 300 mg/kg...  Organic Compounds   \n",
       "2  Adverse reactions occur at a frequency of < 1/...  Organic Compounds   \n",
       "\n",
       "  class_superclass                                           synonyms  \\\n",
       "0    Organic Acids  [Leu1, Thr2]-63-desulfohirudin|Desulfatohirudi...   \n",
       "1    Organic Acids                    Cetuximab|Cétuximab|Cetuximabum   \n",
       "2    Organic Acids  Deoxyribonuclease (human clone 18-1 protein mo...   \n",
       "\n",
       "                                          categories        patent_approved  \\\n",
       "0  Amino Acids, Peptides, and Proteins|Anticoagul...             1993-01-19   \n",
       "1  Amino Acids, Peptides, and Proteins|Antibodies...             1999-03-02   \n",
       "2  Amino Acids, Peptides, and Proteins|Cough and ...  2005-02-22|2004-10-26   \n",
       "\n",
       "                                         interaction   pubchem         chembl  \\\n",
       "0  DB06605|DB06695|DB01254|DB01609|DB01586|DB0212...  46507011  CHEMBL1201666   \n",
       "1  DB00255|DB00269|DB00286|DB00655|DB00783|DB0089...  46507042  CHEMBL1201577   \n",
       "2                                                     46507792  CHEMBL1201431   \n",
       "\n",
       "  SMILES InChI chebi bindingdb  \n",
       "0    NaN   NaN   NaN       NaN  \n",
       "1    NaN   NaN   NaN       NaN  \n",
       "2    NaN   NaN   NaN       NaN  "
      ]
     },
     "execution_count": 89,
     "metadata": {},
     "output_type": "execute_result"
    }
   ],
   "source": [
    "df.head(3)"
   ]
  },
  {
   "cell_type": "code",
   "execution_count": 90,
   "metadata": {},
   "outputs": [],
   "source": [
    "df.to_csv('data/parsed_DrugBank.csv', index=False, encoding='utf-8')"
   ]
  },
  {
   "cell_type": "code",
   "execution_count": null,
   "metadata": {},
   "outputs": [],
   "source": []
  }
 ],
 "metadata": {
  "anaconda-cloud": {},
  "kernelspec": {
   "display_name": "Python [default]",
   "language": "python",
   "name": "python3"
  },
  "language_info": {
   "codemirror_mode": {
    "name": "ipython",
    "version": 3
   },
   "file_extension": ".py",
   "mimetype": "text/x-python",
   "name": "python",
   "nbconvert_exporter": "python",
   "pygments_lexer": "ipython3",
   "version": "3.11.9"
  }
 },
 "nbformat": 4,
 "nbformat_minor": 0
}
