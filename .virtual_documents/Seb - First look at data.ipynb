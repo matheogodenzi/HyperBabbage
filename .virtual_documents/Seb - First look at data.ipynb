


import pandas as pd
import json
import seaborn as sns
import matplotlib.pyplot as plt
import locale
import datetime
try:
    import pymysql
except ImportError:
    import os
    os.system('pip install pymysql')

locale.setlocale(locale.LC_TIME, 'en')


def connect_with_pymysql():
    try:
        connection = pymysql.connect(
            host='194.164.53.120',
            user='HYPERBABBAGE',
            password=json.load(open('keys.json'))['mysql_password'],
            database='bind',
            cursorclass=pymysql.cursors.DictCursor
        )

        return connection
                    
    except pymysql.MySQLError as e:
        print(f"Error: {e}")


connection = connect_with_pymysql()


with connection.cursor() as cursor:
    sql_select = "SELECT month, year, day, title, abstract FROM article"
    cursor.execute(sql_select)
    articles = pd.DataFrame(cursor.fetchall())


connection.close()


# From number 01 to 12 get the month name
month_mapper = {datetime.date(1900, x, 1).strftime('%b'): x for x in range(1, 13)}


articles['month'] = articles['month'].map(month_mapper)


articles['dt'] = pd.to_datetime(articles[['year', 'month', 'day']])


articles['dt'].hist(bins=100)


articles.hist(bins=50)
plt.tight_layout()


articles.head()


cancer_articles = articles.where(articles['abstract'].str.lower().str.contains('cancer') | articles['abstract'].str.lower().str.contains('tumor')).dropna()


plt.hist(articles['dt'], bins=100, label='All Articles')
plt.hist(cancer_articles['dt'], bins=100, label='Cancer Articles')
plt.legend()
plt.show()


fig, ax1 = plt.subplots() 
  
ax1.hist(cancer_articles['dt'], bins=100, label='Cancer Articles', alpha=0.6, color='coral')
ax1.set_ylabel('Cancer Articles', color = 'coral')
ax1.tick_params(axis ='y', labelcolor = 'coral') 
  
# Adding Twin Axes
ax2 = ax1.twinx() 

ax2.hist(articles['dt'], bins=100, label='All Articles', alpha=0.6, color='tab:blue')
ax2.set_ylabel('All Articles', color = 'tab:blue')
ax2.tick_params(axis ='y', labelcolor = 'tab:blue') 

ax1.set_xlabel('Date')
# Show plot
plt.show()


# Count appearence of each word in all abstracts
from collections import Counter
import re

all_words = ' '.join(articles['abstract'].dropna())
all_words = all_words.split()
all_words = [re.sub(r'\W+', '', words) for words in all_words]
all_words = [words for words in all_words if len(words) > 3]
all_words = Counter(all_words)
all_words = pd.DataFrame(all_words.items(), columns=['word', 'count'])


cancer_words = ' '.join(cancer_articles['abstract'].dropna())
cancer_words = cancer_words.split()
cancer_words = [re.sub(r'\W+', '', words) for words in cancer_words]
cancer_words = [words for words in cancer_words if len(words) > 3]
cancer_words = Counter(cancer_words)
cancer_words = pd.DataFrame(cancer_words.items(), columns=['word', 'count'])


n = 500
first_n_cancer = cancer_words.sort_values('count', ascending=False).head(n)
first_n_all = all_words.sort_values('count', ascending=False).head(n)


diff = set(first_n_cancer['word']) - set(first_n_all['word'])
len(diff)


first_n_cancer[first_n_cancer['word'].isin(diff)].head(50)






