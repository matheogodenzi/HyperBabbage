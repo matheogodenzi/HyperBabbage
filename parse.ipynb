{
 "cells": [
  {
   "cell_type": "markdown",
   "metadata": {},
   "source": [
    "https://github.com/dhimmel/drugbank/blob/gh-pages/parse.ipynb"
   ]
  },
  {
   "cell_type": "markdown",
   "metadata": {},
   "source": [
    "# Parse the DrugBank XML and extract TSVs"
   ]
  },
  {
   "cell_type": "markdown",
   "metadata": {},
   "source": [
    "Run using Python 3 to avoid a non-ascii character error when writing to file with the csv module."
   ]
  },
  {
   "cell_type": "code",
   "execution_count": 15,
   "metadata": {
    "collapsed": true
   },
   "outputs": [],
   "source": [
    "import xml.etree.ElementTree as ET\n",
    "import time\n",
    "from tqdm import tqdm\n",
    "import pandas as pd"
   ]
  },
  {
   "cell_type": "code",
   "execution_count": 2,
   "metadata": {},
   "outputs": [],
   "source": [
    "from lxml import etree\n",
    "\n",
    "# Create a parser\n",
    "parser = etree.XMLParser(recover=True)\n",
    "\n",
    "parsed_file = etree.parse('full database.xml', parser=parser)"
   ]
  },
  {
   "cell_type": "code",
   "execution_count": 3,
   "metadata": {},
   "outputs": [],
   "source": [
    "root = parsed_file.getroot()"
   ]
  },
  {
   "cell_type": "code",
   "execution_count": 9,
   "metadata": {},
   "outputs": [],
   "source": [
    "drugs = list(root)"
   ]
  },
  {
   "cell_type": "code",
   "execution_count": 67,
   "metadata": {},
   "outputs": [
    {
     "name": "stdout",
     "output_type": "stream",
     "text": [
      "Drugs Product Database (DPD)|Drugs Product Database (DPD)|ChEBI|PubChem Substance|KEGG Compound|KEGG Drug|ChemSpider|BindingDB|PharmGKB|Therapeutic Targets Database|Wikipedia|ChEMBL|RxCUI\n",
      "[<Element {http://www.drugbank.ca}external-identifier at 0x2767d158980>, <Element {http://www.drugbank.ca}external-identifier at 0x2767d159600>, <Element {http://www.drugbank.ca}external-identifier at 0x2767d15a000>, <Element {http://www.drugbank.ca}external-identifier at 0x2767d1597c0>, <Element {http://www.drugbank.ca}external-identifier at 0x2767d15ae80>, <Element {http://www.drugbank.ca}external-identifier at 0x2767d15a9c0>, <Element {http://www.drugbank.ca}external-identifier at 0x2767d159dc0>, <Element {http://www.drugbank.ca}external-identifier at 0x2767d159fc0>, <Element {http://www.drugbank.ca}external-identifier at 0x2767d144580>, <Element {http://www.drugbank.ca}external-identifier at 0x2767d144940>, <Element {http://www.drugbank.ca}external-identifier at 0x2767d190a00>, <Element {http://www.drugbank.ca}external-identifier at 0x2767d191980>, <Element {http://www.drugbank.ca}external-identifier at 0x2767d193340>]\n"
     ]
    }
   ],
   "source": [
    "for i in drugs[6]:\n",
    "    if 'external-identifiers' in str(i): # drug's categories\n",
    "        drug_categories = '|'.join([cat[0].text \\\n",
    "                                    for cat in list(i)])\n",
    "        print(drug_categories)\n",
    "        print(list(i))\n",
    "    #print(i)"
   ]
  },
  {
   "cell_type": "code",
   "execution_count": 75,
   "metadata": {},
   "outputs": [
    {
     "name": "stderr",
     "output_type": "stream",
     "text": [
      "  0%|          | 0/16581 [00:00<?, ?it/s]"
     ]
    },
    {
     "name": "stderr",
     "output_type": "stream",
     "text": [
      "100%|██████████| 16581/16581 [00:03<00:00, 5133.40it/s]\n"
     ]
    }
   ],
   "source": [
    "parsed_drugs = []\n",
    "\n",
    "for i in tqdm(range(len(drugs))):\n",
    "    drug = drugs[i]\n",
    "\n",
    "    for idx,feature in enumerate(drug):\n",
    "        featureName = feature.tag\n",
    "\n",
    "        if 'name' in featureName: # drug name\n",
    "            drug_name = feature.text\n",
    "\n",
    "        if 'synonyms' in featureName: # drug's synonyms\n",
    "            drug_synm = '|'.join([synm.text for synm in list(feature)])\n",
    "            \n",
    "        if 'toxicity' in featureName: # drug's toxicity\n",
    "            drug_toxicity = feature.text\n",
    "\n",
    "        if 'unii' in featureName: # drug's UNII\n",
    "            drug_unii = feature.text\n",
    "\n",
    "        if 'categories' in featureName: # drug's categories\n",
    "            drug_categories = '|'.join([cat[0].text for cat in list(feature)])\n",
    "\n",
    "        if 'classification' in featureName: #type of drug\n",
    "            classifications = list(feature)\n",
    "            drug_class_kingdom = classifications[2].text\n",
    "            drug_class_superclass = classifications[3].text\n",
    "\n",
    "        if 'drug-interactions' in featureName: #interaction other drugs\n",
    "            drug_interaction = '|'.join([di[0].text\n",
    "                                        for di in list(feature)])\n",
    "            \n",
    "        if 'patents' in featureName:\n",
    "            patents_list = list(feature)\n",
    "            if len(patents_list) > 0:\n",
    "                drug_patent_approved = '|'.join([cat[2].text for cat in patents_list])\n",
    "\n",
    "        if 'calculated-properties' in featureName: # drug's categories\n",
    "            for calc_prop in list(feature):\n",
    "                prop_name = calc_prop[0].text\n",
    "                if 'SMILES' in prop_name:\n",
    "                    drug_SMILE = calc_prop[1].text\n",
    "\n",
    "                if 'InChI' in prop_name:\n",
    "                    drugInChI = calc_prop[1].text\n",
    "\n",
    "        if 'external-identifiers' in featureName: #other drug's IDs\n",
    "            drug_external_ids_resources = '|'.join([cat[0].text for cat in list(feature)])\n",
    "            drug_external_ids_ids = '|'.join([cat[1].text for cat in list(feature)])\n",
    "                                  \n",
    "        # if 'pathways' in featureName: #related pathways\n",
    "        #     drug_pathway = ';'.join([pathway[1].text \\\n",
    "        #                             for pathway in list(feature)])\n",
    "\n",
    "        # if 'targets' in featureName: #if polypeptide, drug's targets\n",
    "        #     targets = list(feature)\n",
    "\n",
    "    idDB = drug[0].text # Drug Bank ID\n",
    "    parsed_drugs.append([idDB, drug_name, drug_synm, drug_toxicity, drug_unii, drug_categories, drug_class_kingdom, drug_class_superclass, drug_interaction, drug_patent_approved, drug_SMILE, drugInChI, drug_external_ids_resources, drug_external_ids_ids])\n"
   ]
  },
  {
   "cell_type": "code",
   "execution_count": 77,
   "metadata": {},
   "outputs": [
    {
     "data": {
      "text/html": [
       "<div>\n",
       "<style scoped>\n",
       "    .dataframe tbody tr th:only-of-type {\n",
       "        vertical-align: middle;\n",
       "    }\n",
       "\n",
       "    .dataframe tbody tr th {\n",
       "        vertical-align: top;\n",
       "    }\n",
       "\n",
       "    .dataframe thead th {\n",
       "        text-align: right;\n",
       "    }\n",
       "</style>\n",
       "<table border=\"1\" class=\"dataframe\">\n",
       "  <thead>\n",
       "    <tr style=\"text-align: right;\">\n",
       "      <th></th>\n",
       "      <th>idDB</th>\n",
       "      <th>drug_name</th>\n",
       "      <th>drug_synm</th>\n",
       "      <th>drug_toxicity</th>\n",
       "      <th>drug_unii</th>\n",
       "      <th>drug_categories</th>\n",
       "      <th>drug_class_kingdom</th>\n",
       "      <th>drug_class_superclass</th>\n",
       "      <th>drug_interaction</th>\n",
       "      <th>drug_patent_approved</th>\n",
       "      <th>drug_SMILE</th>\n",
       "      <th>drugInChI</th>\n",
       "      <th>drug_external_ids_resources</th>\n",
       "      <th>drug_external_ids_ids</th>\n",
       "    </tr>\n",
       "  </thead>\n",
       "  <tbody>\n",
       "    <tr>\n",
       "      <th>0</th>\n",
       "      <td>DB00001</td>\n",
       "      <td>Lepirudin</td>\n",
       "      <td>[Leu1, Thr2]-63-desulfohirudin|Desulfatohirudi...</td>\n",
       "      <td>The acute toxicity of intravenous lepirudin wa...</td>\n",
       "      <td>Y43GF64R34</td>\n",
       "      <td>Amino Acids, Peptides, and Proteins|Anticoagul...</td>\n",
       "      <td>Organic Compounds</td>\n",
       "      <td>Organic Acids</td>\n",
       "      <td>DB06605|DB06695|DB01254|DB01609|DB01586|DB0212...</td>\n",
       "      <td>1993-01-19</td>\n",
       "      <td>[H][C@@]12CC(=O)N1[C@@H](C([O-])=O)[C@](C)(CN1...</td>\n",
       "      <td>HFZITXBUTWITPT-YWVKMMECSA-N</td>\n",
       "      <td>Drugs Product Database (DPD)|PubChem Substance...</td>\n",
       "      <td>11916|46507011|D06880|PA450195|P01050|DAP00054...</td>\n",
       "    </tr>\n",
       "    <tr>\n",
       "      <th>1</th>\n",
       "      <td>DB00002</td>\n",
       "      <td>Cetuximab</td>\n",
       "      <td>Cetuximab|Cétuximab|Cetuximabum</td>\n",
       "      <td>The intravenous LD&lt;sub&gt;50&lt;/sub&gt; is &gt; 300 mg/kg...</td>\n",
       "      <td>PQX0D8J21J</td>\n",
       "      <td>Amino Acids, Peptides, and Proteins|Antibodies...</td>\n",
       "      <td>Organic Compounds</td>\n",
       "      <td>Organic Acids</td>\n",
       "      <td>DB00255|DB00269|DB00286|DB00655|DB00783|DB0089...</td>\n",
       "      <td>1999-03-02</td>\n",
       "      <td>[H][C@@]12CC(=O)N1[C@@H](C([O-])=O)[C@](C)(CN1...</td>\n",
       "      <td>HFZITXBUTWITPT-YWVKMMECSA-N</td>\n",
       "      <td>Drugs Product Database (DPD)|PubChem Substance...</td>\n",
       "      <td>13175|46507042|D03455|J00228|PA10040|DNC000788...</td>\n",
       "    </tr>\n",
       "    <tr>\n",
       "      <th>2</th>\n",
       "      <td>DB00003</td>\n",
       "      <td>Dornase alfa</td>\n",
       "      <td>Deoxyribonuclease (human clone 18-1 protein mo...</td>\n",
       "      <td>Adverse reactions occur at a frequency of &lt; 1/...</td>\n",
       "      <td>953A26OA1Y</td>\n",
       "      <td>Amino Acids, Peptides, and Proteins|Cough and ...</td>\n",
       "      <td>Organic Compounds</td>\n",
       "      <td>Organic Acids</td>\n",
       "      <td></td>\n",
       "      <td>2005-02-22|2004-10-26</td>\n",
       "      <td>[H][C@@]12CC(=O)N1[C@@H](C([O-])=O)[C@](C)(CN1...</td>\n",
       "      <td>HFZITXBUTWITPT-YWVKMMECSA-N</td>\n",
       "      <td>Drugs Product Database (DPD)|PubChem Substance...</td>\n",
       "      <td>650|46507792|M55983|PA10318|P24855|DAP000981|D...</td>\n",
       "    </tr>\n",
       "  </tbody>\n",
       "</table>\n",
       "</div>"
      ],
      "text/plain": [
       "      idDB     drug_name                                          drug_synm  \\\n",
       "0  DB00001     Lepirudin  [Leu1, Thr2]-63-desulfohirudin|Desulfatohirudi...   \n",
       "1  DB00002     Cetuximab                    Cetuximab|Cétuximab|Cetuximabum   \n",
       "2  DB00003  Dornase alfa  Deoxyribonuclease (human clone 18-1 protein mo...   \n",
       "\n",
       "                                       drug_toxicity   drug_unii  \\\n",
       "0  The acute toxicity of intravenous lepirudin wa...  Y43GF64R34   \n",
       "1  The intravenous LD<sub>50</sub> is > 300 mg/kg...  PQX0D8J21J   \n",
       "2  Adverse reactions occur at a frequency of < 1/...  953A26OA1Y   \n",
       "\n",
       "                                     drug_categories drug_class_kingdom  \\\n",
       "0  Amino Acids, Peptides, and Proteins|Anticoagul...  Organic Compounds   \n",
       "1  Amino Acids, Peptides, and Proteins|Antibodies...  Organic Compounds   \n",
       "2  Amino Acids, Peptides, and Proteins|Cough and ...  Organic Compounds   \n",
       "\n",
       "  drug_class_superclass                                   drug_interaction  \\\n",
       "0         Organic Acids  DB06605|DB06695|DB01254|DB01609|DB01586|DB0212...   \n",
       "1         Organic Acids  DB00255|DB00269|DB00286|DB00655|DB00783|DB0089...   \n",
       "2         Organic Acids                                                      \n",
       "\n",
       "    drug_patent_approved                                         drug_SMILE  \\\n",
       "0             1993-01-19  [H][C@@]12CC(=O)N1[C@@H](C([O-])=O)[C@](C)(CN1...   \n",
       "1             1999-03-02  [H][C@@]12CC(=O)N1[C@@H](C([O-])=O)[C@](C)(CN1...   \n",
       "2  2005-02-22|2004-10-26  [H][C@@]12CC(=O)N1[C@@H](C([O-])=O)[C@](C)(CN1...   \n",
       "\n",
       "                     drugInChI  \\\n",
       "0  HFZITXBUTWITPT-YWVKMMECSA-N   \n",
       "1  HFZITXBUTWITPT-YWVKMMECSA-N   \n",
       "2  HFZITXBUTWITPT-YWVKMMECSA-N   \n",
       "\n",
       "                         drug_external_ids_resources  \\\n",
       "0  Drugs Product Database (DPD)|PubChem Substance...   \n",
       "1  Drugs Product Database (DPD)|PubChem Substance...   \n",
       "2  Drugs Product Database (DPD)|PubChem Substance...   \n",
       "\n",
       "                               drug_external_ids_ids  \n",
       "0  11916|46507011|D06880|PA450195|P01050|DAP00054...  \n",
       "1  13175|46507042|D03455|J00228|PA10040|DNC000788...  \n",
       "2  650|46507792|M55983|PA10318|P24855|DAP000981|D...  "
      ]
     },
     "execution_count": 77,
     "metadata": {},
     "output_type": "execute_result"
    }
   ],
   "source": [
    "df = pd.DataFrame(parsed_drugs)\n",
    "df.columns = ['idDB', 'drug_name', 'drug_synm', 'drug_toxicity', 'drug_unii', 'drug_categories', 'drug_class_kingdom', 'drug_class_superclass', 'drug_interaction', 'drug_patent_approved', 'drug_SMILE', 'drugInChI', 'drug_external_ids_resources', 'drug_external_ids_ids']\n",
    "df.head(3)"
   ]
  },
  {
   "cell_type": "code",
   "execution_count": null,
   "metadata": {},
   "outputs": [],
   "source": []
  }
 ],
 "metadata": {
  "anaconda-cloud": {},
  "kernelspec": {
   "display_name": "Python [default]",
   "language": "python",
   "name": "python3"
  },
  "language_info": {
   "codemirror_mode": {
    "name": "ipython",
    "version": 3
   },
   "file_extension": ".py",
   "mimetype": "text/x-python",
   "name": "python",
   "nbconvert_exporter": "python",
   "pygments_lexer": "ipython3",
   "version": "3.11.9"
  }
 },
 "nbformat": 4,
 "nbformat_minor": 0
}
