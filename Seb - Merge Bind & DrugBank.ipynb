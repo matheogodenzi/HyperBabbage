{
 "cells": [
  {
   "cell_type": "markdown",
   "metadata": {},
   "source": [
    "## Insight for the medical dataset"
   ]
  },
  {
   "cell_type": "markdown",
   "metadata": {},
   "source": [
    "### Imports"
   ]
  },
  {
   "cell_type": "code",
   "execution_count": 2,
   "metadata": {},
   "outputs": [],
   "source": [
    "import numpy as np\n",
    "import pandas as pd\n",
    "import matplotlib.pyplot as plt\n",
    "import xml.etree.ElementTree as ET\n",
    "from tqdm import tqdm\n",
    "import pandas as pd\n",
    "%matplotlib inline"
   ]
  },
  {
   "cell_type": "markdown",
   "metadata": {},
   "source": [
    "### Paths"
   ]
  },
  {
   "cell_type": "code",
   "execution_count": 3,
   "metadata": {},
   "outputs": [],
   "source": [
    "DATA_PATH = './data/'\n",
    "BINDINGDB = 'BindingDB_All.tsv'\n",
    "DRUGBANK = 'parsed_DrugBank.csv'"
   ]
  },
  {
   "cell_type": "markdown",
   "metadata": {},
   "source": [
    "### Loading the data"
   ]
  },
  {
   "cell_type": "code",
   "execution_count": 4,
   "metadata": {},
   "outputs": [],
   "source": [
    "def load_BindingDB(file):\n",
    "    file_path = DATA_PATH + file\n",
    "\n",
    "    ## load the first row to get the number of columns\n",
    "    df_first_row = pd.read_csv(file_path, sep='\\t', nrows=1)\n",
    "\n",
    "    ## number of columns to use\n",
    "    df = pd.read_csv(file_path, sep='\\t', header=0, usecols=range(df_first_row.shape[1]))\n",
    "    return df"
   ]
  },
  {
   "cell_type": "code",
   "execution_count": 5,
   "metadata": {},
   "outputs": [
    {
     "name": "stderr",
     "output_type": "stream",
     "text": [
      "C:\\Users\\sebge\\AppData\\Local\\Temp\\ipykernel_20888\\2661906853.py:8: DtypeWarning: Columns (8,9,10,11,12,13,15,17,18,20,21,22,23,27,28,32,33,35,36,45,46,47,48,50,51,52,53,54,55,57,58,59,60,62,63,64,65,66,67,69,70,71,72,74,75,76,77,78,79,81,82,83,86,87,88,89,90,91,93,94,95,98,99,100,101,102,103,105,106,107,110,111,112,113,114,115,117,118,119,122,123,124,125,126,127,129,130,131,134,135,136,137,138,139,141,142,143,146,147,148,149,150,151,153,154,155,158,159,160,161,162,163,165,166,167,170,171,172,173,174,175,177,178,179,182,183,184,185,186,187,189,190,191) have mixed types. Specify dtype option on import or set low_memory=False.\n",
      "  df = pd.read_csv(file_path, sep='\\t', header=0, usecols=range(df_first_row.shape[1]))\n"
     ]
    }
   ],
   "source": [
    "df = load_BindingDB(BINDINGDB)"
   ]
  },
  {
   "cell_type": "code",
   "execution_count": 6,
   "metadata": {},
   "outputs": [
    {
     "name": "stdout",
     "output_type": "stream",
     "text": [
      "Number of rows: 2927609\n",
      "Number of cols: 194\n"
     ]
    }
   ],
   "source": [
    "print(f\"Number of rows: {len(df)}\")\n",
    "print(f\"Number of cols: {len(df.columns)}\")"
   ]
  },
  {
   "cell_type": "code",
   "execution_count": 7,
   "metadata": {},
   "outputs": [
    {
     "data": {
      "text/html": [
       "<div>\n",
       "<style scoped>\n",
       "    .dataframe tbody tr th:only-of-type {\n",
       "        vertical-align: middle;\n",
       "    }\n",
       "\n",
       "    .dataframe tbody tr th {\n",
       "        vertical-align: top;\n",
       "    }\n",
       "\n",
       "    .dataframe thead th {\n",
       "        text-align: right;\n",
       "    }\n",
       "</style>\n",
       "<table border=\"1\" class=\"dataframe\">\n",
       "  <thead>\n",
       "    <tr style=\"text-align: right;\">\n",
       "      <th></th>\n",
       "      <th>BindingDB Reactant_set_id</th>\n",
       "      <th>Ligand SMILES</th>\n",
       "      <th>Ligand InChI</th>\n",
       "      <th>Ligand InChI Key</th>\n",
       "      <th>BindingDB MonomerID</th>\n",
       "      <th>BindingDB Ligand Name</th>\n",
       "      <th>Target Name</th>\n",
       "      <th>Target Source Organism According to Curator or DataSource</th>\n",
       "      <th>Ki (nM)</th>\n",
       "      <th>IC50 (nM)</th>\n",
       "      <th>...</th>\n",
       "      <th>UniProt (SwissProt) Recommended Name of Target Chain.12</th>\n",
       "      <th>UniProt (SwissProt) Entry Name of Target Chain.12</th>\n",
       "      <th>UniProt (SwissProt) Primary ID of Target Chain.12</th>\n",
       "      <th>UniProt (SwissProt) Secondary ID(s) of Target Chain.12</th>\n",
       "      <th>UniProt (SwissProt) Alternative ID(s) of Target Chain.12</th>\n",
       "      <th>UniProt (TrEMBL) Submitted Name of Target Chain.12</th>\n",
       "      <th>UniProt (TrEMBL) Entry Name of Target Chain.12</th>\n",
       "      <th>UniProt (TrEMBL) Primary ID of Target Chain.12</th>\n",
       "      <th>UniProt (TrEMBL) Secondary ID(s) of Target Chain.12</th>\n",
       "      <th>UniProt (TrEMBL) Alternative ID(s) of Target Chain.12</th>\n",
       "    </tr>\n",
       "  </thead>\n",
       "  <tbody>\n",
       "    <tr>\n",
       "      <th>0</th>\n",
       "      <td>1</td>\n",
       "      <td>O[C@@H]1[C@@H](O)[C@@H](Cc2ccccc2)N(CCCCCC(O)=...</td>\n",
       "      <td>InChI=1S/C31H42N2O7/c34-27(35)17-9-3-11-19-32-...</td>\n",
       "      <td>XGEGDSLAQZJGCW-HHGOQMMWSA-N</td>\n",
       "      <td>608734</td>\n",
       "      <td>6-[(4R,5S,6S,7R)-4,7-dibenzyl-3-(5-carboxypent...</td>\n",
       "      <td>Dimer of Gag-Pol polyprotein [501-599]</td>\n",
       "      <td>Human immunodeficiency virus 1</td>\n",
       "      <td>0.24</td>\n",
       "      <td>-1.0</td>\n",
       "      <td>...</td>\n",
       "      <td>NaN</td>\n",
       "      <td>NaN</td>\n",
       "      <td>NaN</td>\n",
       "      <td>NaN</td>\n",
       "      <td>NaN</td>\n",
       "      <td>NaN</td>\n",
       "      <td>NaN</td>\n",
       "      <td>NaN</td>\n",
       "      <td>NaN</td>\n",
       "      <td>NaN</td>\n",
       "    </tr>\n",
       "    <tr>\n",
       "      <th>1</th>\n",
       "      <td>2</td>\n",
       "      <td>O[C@@H]1[C@@H](O)[C@@H](Cc2ccccc2)N(C\\C=C\\c2cn...</td>\n",
       "      <td>InChI=1S/C31H34N6O3/c38-29-27(17-23-9-3-1-4-10...</td>\n",
       "      <td>UZLMEAPBHYEHAC-UNTBESQGSA-N</td>\n",
       "      <td>22</td>\n",
       "      <td>(4R,5S,6S,7R)-4,7-dibenzyl-5,6-dihydroxy-1,3-b...</td>\n",
       "      <td>Dimer of Gag-Pol polyprotein [501-599]</td>\n",
       "      <td>Human immunodeficiency virus 1</td>\n",
       "      <td>0.25</td>\n",
       "      <td>-1.0</td>\n",
       "      <td>...</td>\n",
       "      <td>NaN</td>\n",
       "      <td>NaN</td>\n",
       "      <td>NaN</td>\n",
       "      <td>NaN</td>\n",
       "      <td>NaN</td>\n",
       "      <td>NaN</td>\n",
       "      <td>NaN</td>\n",
       "      <td>NaN</td>\n",
       "      <td>NaN</td>\n",
       "      <td>NaN</td>\n",
       "    </tr>\n",
       "    <tr>\n",
       "      <th>2</th>\n",
       "      <td>3</td>\n",
       "      <td>O[C@@H]1[C@@H](O)[C@@H](Cc2ccccc2)N(CC2CC2)C(=...</td>\n",
       "      <td>InChI=1S/C29H34N4O3/c34-27-25(16-21-8-3-1-4-9-...</td>\n",
       "      <td>HYNYUFZPPJMPOB-UTWJFGBXSA-N</td>\n",
       "      <td>23</td>\n",
       "      <td>(4R,5S,6S,7R)-4,7-dibenzyl-1-(cyclopropylmethy...</td>\n",
       "      <td>Dimer of Gag-Pol polyprotein [501-599]</td>\n",
       "      <td>Human immunodeficiency virus 1</td>\n",
       "      <td>0.41</td>\n",
       "      <td>-1.0</td>\n",
       "      <td>...</td>\n",
       "      <td>NaN</td>\n",
       "      <td>NaN</td>\n",
       "      <td>NaN</td>\n",
       "      <td>NaN</td>\n",
       "      <td>NaN</td>\n",
       "      <td>NaN</td>\n",
       "      <td>NaN</td>\n",
       "      <td>NaN</td>\n",
       "      <td>NaN</td>\n",
       "      <td>NaN</td>\n",
       "    </tr>\n",
       "    <tr>\n",
       "      <th>3</th>\n",
       "      <td>4</td>\n",
       "      <td>OCCCCCCN1[C@H](Cc2ccccc2)[C@H](O)[C@@H](O)[C@@...</td>\n",
       "      <td>InChI=1S/C29H40N2O4/c32-18-10-2-1-9-17-30-25(1...</td>\n",
       "      <td>YXVAZXDWVZTGGD-VIJSPRBVSA-N</td>\n",
       "      <td>24</td>\n",
       "      <td>(4R,5S,6S,7R)-4,7-dibenzyl-1-(cyclopropylmethy...</td>\n",
       "      <td>Dimer of Gag-Pol polyprotein [501-599]</td>\n",
       "      <td>Human immunodeficiency virus 1</td>\n",
       "      <td>0.80</td>\n",
       "      <td>-1.0</td>\n",
       "      <td>...</td>\n",
       "      <td>NaN</td>\n",
       "      <td>NaN</td>\n",
       "      <td>NaN</td>\n",
       "      <td>NaN</td>\n",
       "      <td>NaN</td>\n",
       "      <td>NaN</td>\n",
       "      <td>NaN</td>\n",
       "      <td>NaN</td>\n",
       "      <td>NaN</td>\n",
       "      <td>NaN</td>\n",
       "    </tr>\n",
       "    <tr>\n",
       "      <th>4</th>\n",
       "      <td>5</td>\n",
       "      <td>OCCCCCN1[C@H](Cc2ccccc2)[C@H](O)[C@@H](O)[C@@H...</td>\n",
       "      <td>InChI=1S/C28H38N2O4/c31-17-9-3-8-16-29-24(18-2...</td>\n",
       "      <td>WWTSWTPNILRSJX-XDZXDJIYSA-N</td>\n",
       "      <td>25</td>\n",
       "      <td>(4R,5S,6S,7R)-4,7-dibenzyl-1-(cyclopropylmethy...</td>\n",
       "      <td>Dimer of Gag-Pol polyprotein [501-599]</td>\n",
       "      <td>Human immunodeficiency virus 1</td>\n",
       "      <td>0.99</td>\n",
       "      <td>-1.0</td>\n",
       "      <td>...</td>\n",
       "      <td>NaN</td>\n",
       "      <td>NaN</td>\n",
       "      <td>NaN</td>\n",
       "      <td>NaN</td>\n",
       "      <td>NaN</td>\n",
       "      <td>NaN</td>\n",
       "      <td>NaN</td>\n",
       "      <td>NaN</td>\n",
       "      <td>NaN</td>\n",
       "      <td>NaN</td>\n",
       "    </tr>\n",
       "  </tbody>\n",
       "</table>\n",
       "<p>5 rows × 194 columns</p>\n",
       "</div>"
      ],
      "text/plain": [
       "   BindingDB Reactant_set_id  \\\n",
       "0                          1   \n",
       "1                          2   \n",
       "2                          3   \n",
       "3                          4   \n",
       "4                          5   \n",
       "\n",
       "                                       Ligand SMILES  \\\n",
       "0  O[C@@H]1[C@@H](O)[C@@H](Cc2ccccc2)N(CCCCCC(O)=...   \n",
       "1  O[C@@H]1[C@@H](O)[C@@H](Cc2ccccc2)N(C\\C=C\\c2cn...   \n",
       "2  O[C@@H]1[C@@H](O)[C@@H](Cc2ccccc2)N(CC2CC2)C(=...   \n",
       "3  OCCCCCCN1[C@H](Cc2ccccc2)[C@H](O)[C@@H](O)[C@@...   \n",
       "4  OCCCCCN1[C@H](Cc2ccccc2)[C@H](O)[C@@H](O)[C@@H...   \n",
       "\n",
       "                                        Ligand InChI  \\\n",
       "0  InChI=1S/C31H42N2O7/c34-27(35)17-9-3-11-19-32-...   \n",
       "1  InChI=1S/C31H34N6O3/c38-29-27(17-23-9-3-1-4-10...   \n",
       "2  InChI=1S/C29H34N4O3/c34-27-25(16-21-8-3-1-4-9-...   \n",
       "3  InChI=1S/C29H40N2O4/c32-18-10-2-1-9-17-30-25(1...   \n",
       "4  InChI=1S/C28H38N2O4/c31-17-9-3-8-16-29-24(18-2...   \n",
       "\n",
       "              Ligand InChI Key  BindingDB MonomerID  \\\n",
       "0  XGEGDSLAQZJGCW-HHGOQMMWSA-N               608734   \n",
       "1  UZLMEAPBHYEHAC-UNTBESQGSA-N                   22   \n",
       "2  HYNYUFZPPJMPOB-UTWJFGBXSA-N                   23   \n",
       "3  YXVAZXDWVZTGGD-VIJSPRBVSA-N                   24   \n",
       "4  WWTSWTPNILRSJX-XDZXDJIYSA-N                   25   \n",
       "\n",
       "                               BindingDB Ligand Name  \\\n",
       "0  6-[(4R,5S,6S,7R)-4,7-dibenzyl-3-(5-carboxypent...   \n",
       "1  (4R,5S,6S,7R)-4,7-dibenzyl-5,6-dihydroxy-1,3-b...   \n",
       "2  (4R,5S,6S,7R)-4,7-dibenzyl-1-(cyclopropylmethy...   \n",
       "3  (4R,5S,6S,7R)-4,7-dibenzyl-1-(cyclopropylmethy...   \n",
       "4  (4R,5S,6S,7R)-4,7-dibenzyl-1-(cyclopropylmethy...   \n",
       "\n",
       "                              Target Name  \\\n",
       "0  Dimer of Gag-Pol polyprotein [501-599]   \n",
       "1  Dimer of Gag-Pol polyprotein [501-599]   \n",
       "2  Dimer of Gag-Pol polyprotein [501-599]   \n",
       "3  Dimer of Gag-Pol polyprotein [501-599]   \n",
       "4  Dimer of Gag-Pol polyprotein [501-599]   \n",
       "\n",
       "  Target Source Organism According to Curator or DataSource  Ki (nM)  \\\n",
       "0                     Human immunodeficiency virus 1            0.24   \n",
       "1                     Human immunodeficiency virus 1            0.25   \n",
       "2                     Human immunodeficiency virus 1            0.41   \n",
       "3                     Human immunodeficiency virus 1            0.80   \n",
       "4                     Human immunodeficiency virus 1            0.99   \n",
       "\n",
       "   IC50 (nM)  ...  UniProt (SwissProt) Recommended Name of Target Chain.12  \\\n",
       "0       -1.0  ...                                                NaN         \n",
       "1       -1.0  ...                                                NaN         \n",
       "2       -1.0  ...                                                NaN         \n",
       "3       -1.0  ...                                                NaN         \n",
       "4       -1.0  ...                                                NaN         \n",
       "\n",
       "   UniProt (SwissProt) Entry Name of Target Chain.12  \\\n",
       "0                                                NaN   \n",
       "1                                                NaN   \n",
       "2                                                NaN   \n",
       "3                                                NaN   \n",
       "4                                                NaN   \n",
       "\n",
       "   UniProt (SwissProt) Primary ID of Target Chain.12  \\\n",
       "0                                                NaN   \n",
       "1                                                NaN   \n",
       "2                                                NaN   \n",
       "3                                                NaN   \n",
       "4                                                NaN   \n",
       "\n",
       "   UniProt (SwissProt) Secondary ID(s) of Target Chain.12  \\\n",
       "0                                                NaN        \n",
       "1                                                NaN        \n",
       "2                                                NaN        \n",
       "3                                                NaN        \n",
       "4                                                NaN        \n",
       "\n",
       "   UniProt (SwissProt) Alternative ID(s) of Target Chain.12  \\\n",
       "0                                                NaN          \n",
       "1                                                NaN          \n",
       "2                                                NaN          \n",
       "3                                                NaN          \n",
       "4                                                NaN          \n",
       "\n",
       "  UniProt (TrEMBL) Submitted Name of Target Chain.12  \\\n",
       "0                                                NaN   \n",
       "1                                                NaN   \n",
       "2                                                NaN   \n",
       "3                                                NaN   \n",
       "4                                                NaN   \n",
       "\n",
       "  UniProt (TrEMBL) Entry Name of Target Chain.12  \\\n",
       "0                                            NaN   \n",
       "1                                            NaN   \n",
       "2                                            NaN   \n",
       "3                                            NaN   \n",
       "4                                            NaN   \n",
       "\n",
       "  UniProt (TrEMBL) Primary ID of Target Chain.12  \\\n",
       "0                                            NaN   \n",
       "1                                            NaN   \n",
       "2                                            NaN   \n",
       "3                                            NaN   \n",
       "4                                            NaN   \n",
       "\n",
       "  UniProt (TrEMBL) Secondary ID(s) of Target Chain.12  \\\n",
       "0                                                NaN    \n",
       "1                                                NaN    \n",
       "2                                                NaN    \n",
       "3                                                NaN    \n",
       "4                                                NaN    \n",
       "\n",
       "   UniProt (TrEMBL) Alternative ID(s) of Target Chain.12  \n",
       "0                                                NaN      \n",
       "1                                                NaN      \n",
       "2                                                NaN      \n",
       "3                                                NaN      \n",
       "4                                                NaN      \n",
       "\n",
       "[5 rows x 194 columns]"
      ]
     },
     "execution_count": 7,
     "metadata": {},
     "output_type": "execute_result"
    }
   ],
   "source": [
    "import re\n",
    "def keep_just_numeric(value):\n",
    "    if type(value) != str:\n",
    "        return -1\n",
    "    \n",
    "    cleaned_val = re.sub(r'[^\\d.]+','', str(value)) ## There are random float / str in the dataset?? -> convert to str\n",
    "    if(cleaned_val == ''): #It didn't contain any number?\n",
    "        return -1\n",
    "    return float(cleaned_val)\n",
    "\n",
    "affinity_cols = [\"Ki (nM)\", \"Kd (nM)\"] ## Measures of binding affinity\n",
    "ec_ic = [\"EC50 (nM)\", \"IC50 (nM)\"] #### Measures of inhibitory (IC50) and effective concentrations (EC50)\n",
    "bind_unbind = [\"kon (M-1-s-1)\", \"koff (s-1)\"] ## Rates of binding / unbinding of ligands\n",
    "\n",
    "binding_ligand_efficency_cols = affinity_cols + ec_ic + bind_unbind\n",
    "filtered_df = df.copy()\n",
    "\n",
    "for af_col in binding_ligand_efficency_cols:\n",
    "    filtered_df[af_col] = filtered_df[af_col].apply(keep_just_numeric)\n",
    "filtered_df.head()\n",
    "    "
   ]
  },
  {
   "cell_type": "markdown",
   "metadata": {},
   "source": [
    "## Link to Drug Bank"
   ]
  },
  {
   "cell_type": "code",
   "execution_count": 8,
   "metadata": {},
   "outputs": [
    {
     "data": {
      "text/html": [
       "<div>\n",
       "<style scoped>\n",
       "    .dataframe tbody tr th:only-of-type {\n",
       "        vertical-align: middle;\n",
       "    }\n",
       "\n",
       "    .dataframe tbody tr th {\n",
       "        vertical-align: top;\n",
       "    }\n",
       "\n",
       "    .dataframe thead th {\n",
       "        text-align: right;\n",
       "    }\n",
       "</style>\n",
       "<table border=\"1\" class=\"dataframe\">\n",
       "  <thead>\n",
       "    <tr style=\"text-align: right;\">\n",
       "      <th></th>\n",
       "      <th>id</th>\n",
       "      <th>name</th>\n",
       "      <th>unii</th>\n",
       "      <th>toxicity</th>\n",
       "      <th>class_kingdom</th>\n",
       "      <th>class_superclass</th>\n",
       "      <th>synonyms</th>\n",
       "      <th>categories</th>\n",
       "      <th>patent_approved</th>\n",
       "      <th>interaction</th>\n",
       "      <th>pubchem</th>\n",
       "      <th>chembl</th>\n",
       "      <th>SMILES</th>\n",
       "      <th>InChI</th>\n",
       "      <th>chebi</th>\n",
       "      <th>bindingdb</th>\n",
       "    </tr>\n",
       "  </thead>\n",
       "  <tbody>\n",
       "    <tr>\n",
       "      <th>0</th>\n",
       "      <td>DB00001</td>\n",
       "      <td>Lepirudin</td>\n",
       "      <td>Y43GF64R34</td>\n",
       "      <td>The acute toxicity of intravenous lepirudin wa...</td>\n",
       "      <td>Organic Compounds</td>\n",
       "      <td>Organic Acids</td>\n",
       "      <td>[Leu1, Thr2]-63-desulfohirudin|Desulfatohirudi...</td>\n",
       "      <td>Amino Acids, Peptides, and Proteins|Anticoagul...</td>\n",
       "      <td>1993-01-19</td>\n",
       "      <td>DB06605|DB06695|DB01254|DB01609|DB01586|DB0212...</td>\n",
       "      <td>46507011.0</td>\n",
       "      <td>CHEMBL1201666</td>\n",
       "      <td>NaN</td>\n",
       "      <td>NaN</td>\n",
       "      <td>NaN</td>\n",
       "      <td>NaN</td>\n",
       "    </tr>\n",
       "    <tr>\n",
       "      <th>1</th>\n",
       "      <td>DB00002</td>\n",
       "      <td>Cetuximab</td>\n",
       "      <td>PQX0D8J21J</td>\n",
       "      <td>The intravenous LD&lt;sub&gt;50&lt;/sub&gt; is &gt; 300 mg/kg...</td>\n",
       "      <td>Organic Compounds</td>\n",
       "      <td>Organic Acids</td>\n",
       "      <td>Cetuximab|Cétuximab|Cetuximabum</td>\n",
       "      <td>Amino Acids, Peptides, and Proteins|Antibodies...</td>\n",
       "      <td>1999-03-02</td>\n",
       "      <td>DB00255|DB00269|DB00286|DB00655|DB00783|DB0089...</td>\n",
       "      <td>46507042.0</td>\n",
       "      <td>CHEMBL1201577</td>\n",
       "      <td>NaN</td>\n",
       "      <td>NaN</td>\n",
       "      <td>NaN</td>\n",
       "      <td>NaN</td>\n",
       "    </tr>\n",
       "    <tr>\n",
       "      <th>2</th>\n",
       "      <td>DB00003</td>\n",
       "      <td>Dornase alfa</td>\n",
       "      <td>953A26OA1Y</td>\n",
       "      <td>Adverse reactions occur at a frequency of &lt; 1/...</td>\n",
       "      <td>Organic Compounds</td>\n",
       "      <td>Organic Acids</td>\n",
       "      <td>Deoxyribonuclease (human clone 18-1 protein mo...</td>\n",
       "      <td>Amino Acids, Peptides, and Proteins|Cough and ...</td>\n",
       "      <td>2005-02-22|2004-10-26</td>\n",
       "      <td>NaN</td>\n",
       "      <td>46507792.0</td>\n",
       "      <td>CHEMBL1201431</td>\n",
       "      <td>NaN</td>\n",
       "      <td>NaN</td>\n",
       "      <td>NaN</td>\n",
       "      <td>NaN</td>\n",
       "    </tr>\n",
       "    <tr>\n",
       "      <th>3</th>\n",
       "      <td>DB00004</td>\n",
       "      <td>Denileukin diftitox</td>\n",
       "      <td>25E79B5CTM</td>\n",
       "      <td>NaN</td>\n",
       "      <td>Organic Compounds</td>\n",
       "      <td>Organic Acids</td>\n",
       "      <td>Denileukin|Denileukin diftitox|Interleukin-2/d...</td>\n",
       "      <td>ADP Ribose Transferases|Amino Acids, Peptides,...</td>\n",
       "      <td>NaN</td>\n",
       "      <td>DB00012|DB00016|DB08894|DB09107|DB00281|DB0029...</td>\n",
       "      <td>46506950.0</td>\n",
       "      <td>CHEMBL1201550</td>\n",
       "      <td>NaN</td>\n",
       "      <td>NaN</td>\n",
       "      <td>NaN</td>\n",
       "      <td>NaN</td>\n",
       "    </tr>\n",
       "    <tr>\n",
       "      <th>4</th>\n",
       "      <td>DB00005</td>\n",
       "      <td>Etanercept</td>\n",
       "      <td>OP401G7OJC</td>\n",
       "      <td>NaN</td>\n",
       "      <td>Organic Compounds</td>\n",
       "      <td>Organic Acids</td>\n",
       "      <td>Etanercept|etanercept-szzs|etanercept-ykro|Rec...</td>\n",
       "      <td>Agents reducing cytokine levels|Amino Acids, P...</td>\n",
       "      <td>2009-06-16|2000-03-14|2007-10-02</td>\n",
       "      <td>DB08879|DB00531|DB06643|DB00065|DB00008|DB0001...</td>\n",
       "      <td>46506732.0</td>\n",
       "      <td>CHEMBL1201572</td>\n",
       "      <td>NaN</td>\n",
       "      <td>NaN</td>\n",
       "      <td>NaN</td>\n",
       "      <td>NaN</td>\n",
       "    </tr>\n",
       "  </tbody>\n",
       "</table>\n",
       "</div>"
      ],
      "text/plain": [
       "        id                 name        unii  \\\n",
       "0  DB00001            Lepirudin  Y43GF64R34   \n",
       "1  DB00002            Cetuximab  PQX0D8J21J   \n",
       "2  DB00003         Dornase alfa  953A26OA1Y   \n",
       "3  DB00004  Denileukin diftitox  25E79B5CTM   \n",
       "4  DB00005           Etanercept  OP401G7OJC   \n",
       "\n",
       "                                            toxicity      class_kingdom  \\\n",
       "0  The acute toxicity of intravenous lepirudin wa...  Organic Compounds   \n",
       "1  The intravenous LD<sub>50</sub> is > 300 mg/kg...  Organic Compounds   \n",
       "2  Adverse reactions occur at a frequency of < 1/...  Organic Compounds   \n",
       "3                                                NaN  Organic Compounds   \n",
       "4                                                NaN  Organic Compounds   \n",
       "\n",
       "  class_superclass                                           synonyms  \\\n",
       "0    Organic Acids  [Leu1, Thr2]-63-desulfohirudin|Desulfatohirudi...   \n",
       "1    Organic Acids                    Cetuximab|Cétuximab|Cetuximabum   \n",
       "2    Organic Acids  Deoxyribonuclease (human clone 18-1 protein mo...   \n",
       "3    Organic Acids  Denileukin|Denileukin diftitox|Interleukin-2/d...   \n",
       "4    Organic Acids  Etanercept|etanercept-szzs|etanercept-ykro|Rec...   \n",
       "\n",
       "                                          categories  \\\n",
       "0  Amino Acids, Peptides, and Proteins|Anticoagul...   \n",
       "1  Amino Acids, Peptides, and Proteins|Antibodies...   \n",
       "2  Amino Acids, Peptides, and Proteins|Cough and ...   \n",
       "3  ADP Ribose Transferases|Amino Acids, Peptides,...   \n",
       "4  Agents reducing cytokine levels|Amino Acids, P...   \n",
       "\n",
       "                    patent_approved  \\\n",
       "0                        1993-01-19   \n",
       "1                        1999-03-02   \n",
       "2             2005-02-22|2004-10-26   \n",
       "3                               NaN   \n",
       "4  2009-06-16|2000-03-14|2007-10-02   \n",
       "\n",
       "                                         interaction     pubchem  \\\n",
       "0  DB06605|DB06695|DB01254|DB01609|DB01586|DB0212...  46507011.0   \n",
       "1  DB00255|DB00269|DB00286|DB00655|DB00783|DB0089...  46507042.0   \n",
       "2                                                NaN  46507792.0   \n",
       "3  DB00012|DB00016|DB08894|DB09107|DB00281|DB0029...  46506950.0   \n",
       "4  DB08879|DB00531|DB06643|DB00065|DB00008|DB0001...  46506732.0   \n",
       "\n",
       "          chembl SMILES InChI  chebi  bindingdb  \n",
       "0  CHEMBL1201666    NaN   NaN    NaN        NaN  \n",
       "1  CHEMBL1201577    NaN   NaN    NaN        NaN  \n",
       "2  CHEMBL1201431    NaN   NaN    NaN        NaN  \n",
       "3  CHEMBL1201550    NaN   NaN    NaN        NaN  \n",
       "4  CHEMBL1201572    NaN   NaN    NaN        NaN  "
      ]
     },
     "execution_count": 8,
     "metadata": {},
     "output_type": "execute_result"
    }
   ],
   "source": [
    "drugbank = pd.read_csv(DATA_PATH + DRUGBANK, encoding='utf-8')\n",
    "drugbank.head()"
   ]
  },
  {
   "cell_type": "code",
   "execution_count": 50,
   "metadata": {},
   "outputs": [
    {
     "data": {
      "text/plain": [
       "87465"
      ]
     },
     "execution_count": 50,
     "metadata": {},
     "output_type": "execute_result"
    }
   ],
   "source": [
    "len(filtered_df['DrugBank ID of Ligand'].dropna())"
   ]
  },
  {
   "cell_type": "code",
   "execution_count": 43,
   "metadata": {},
   "outputs": [
    {
     "data": {
      "text/plain": [
       "9818"
      ]
     },
     "execution_count": 43,
     "metadata": {},
     "output_type": "execute_result"
    }
   ],
   "source": [
    "smile_merged = pd.merge(filtered_df, drugbank, left_on='Ligand SMILES', right_on='drug_SMILE')\n",
    "len(smile_merged)"
   ]
  },
  {
   "cell_type": "code",
   "execution_count": 47,
   "metadata": {},
   "outputs": [
    {
     "data": {
      "text/plain": [
       "199272"
      ]
     },
     "execution_count": 47,
     "metadata": {},
     "output_type": "execute_result"
    }
   ],
   "source": [
    "inchi = pd.merge(filtered_df, drugbank, left_on='Ligand InChI Key', right_on='drugInChI')\n",
    "len(inchi)"
   ]
  },
  {
   "cell_type": "code",
   "execution_count": 76,
   "metadata": {},
   "outputs": [],
   "source": [
    "import pandas as pd\n",
    "\n",
    "# Rename columns in BindingDB to unify naming conventions\n",
    "BindingDB = filtered_df.rename(columns={\n",
    "    'PubChem CID': 'PubChem_CID',\n",
    "    'ChEBI ID of Ligand': 'ChEBI_ID',\n",
    "    'ChEMBL ID of Ligand': 'ChEMBL_ID',\n",
    "    'DrugBank ID of Ligand': 'DrugBank_ID',\n",
    "    'KEGG ID of Ligand': 'KEGG_ID',\n",
    "    'ZINC ID of Ligand': 'ZINC_ID',\n",
    "    'Ligand SMILES': 'SMILES',\n",
    "    'Ligand InChI Key': 'InChI_Key',\n",
    "    'BindingDB MonomerID': 'BindingDB_ID',\n",
    "})\n",
    "\n",
    "# Rename columns in DrugBank to unify naming conventions\n",
    "DrugBank = drugbank.rename(columns={\n",
    "    'chebi': 'ChEBI_ID',\n",
    "    'chembl': 'ChEMBL_ID',\n",
    "    'pubchem': 'PubChem_CID',\n",
    "    'PubChem Substance': 'PubChem_SID',\n",
    "    'DrugBank IDs': 'DrugBank_ID',\n",
    "    'bindingdb': 'BindingDB_ID',\n",
    "    'ZINC': 'ZINC_ID',\n",
    "    'SMILES': 'SMILES',\n",
    "    'InChI': 'InChI_Key',\n",
    "    'KEGG Compound': 'KEGG_ID'\n",
    "})\n",
    "\n",
    "# List of identifiers to merge on\n",
    "identifier_columns = [\n",
    "    'PubChem_CID',\n",
    "    'PubChem_SID',\n",
    "    'ChEBI_ID',\n",
    "    'ChEMBL_ID',\n",
    "    'DrugBank_ID',\n",
    "    'BindingDB_ID',\n",
    "    'ZINC_ID',\n",
    "    'SMILES',\n",
    "    'InChI',\n",
    "    'InChI_Key'\n",
    "]\n",
    "\n",
    "# Function to merge on multiple identifiers\n",
    "def merge_on_identifiers(df1, df2, identifiers):\n",
    "    merged_results = []\n",
    "    for identifier in identifiers:\n",
    "        if identifier in df1.columns and identifier in df2.columns:\n",
    "            temp_merge = pd.merge(df1, df2, on=identifier, how='inner', suffixes=('_BindingDB', '_DrugBank'))\n",
    "            if not temp_merge.empty:\n",
    "                temp_merge['Matched_On'] = identifier\n",
    "                merged_results.append(temp_merge)\n",
    "\n",
    "    print(merged_results)\n",
    "\n",
    "    # Concatenate all merged results\n",
    "    if merged_results:\n",
    "        merged_df = pd.concat(merged_results, ignore_index=True)\n",
    "        # Remove duplicate rows if any\n",
    "        merged_df = merged_df.drop_duplicates()\n",
    "        return merged_df\n",
    "    else:\n",
    "        return pd.DataFrame()\n",
    "\n",
    "# Perform the merge\n",
    "merged_df = merge_on_identifiers(BindingDB, DrugBank, identifier_columns)"
   ]
  },
  {
   "cell_type": "code",
   "execution_count": 42,
   "metadata": {},
   "outputs": [
    {
     "name": "stdout",
     "output_type": "stream",
     "text": [
      "Processing identifier: PubChem_CID\n"
     ]
    },
    {
     "name": "stderr",
     "output_type": "stream",
     "text": [
      "C:\\Users\\sebge\\AppData\\Local\\Temp\\ipykernel_20888\\918708202.py:35: SettingWithCopyWarning: \n",
      "A value is trying to be set on a copy of a slice from a DataFrame.\n",
      "Try using .loc[row_indexer,col_indexer] = value instead\n",
      "\n",
      "See the caveats in the documentation: https://pandas.pydata.org/pandas-docs/stable/user_guide/indexing.html#returning-a-view-versus-a-copy\n",
      "  df1_id[identifier] = df1_id[identifier].astype(str)\n",
      "C:\\Users\\sebge\\AppData\\Local\\Temp\\ipykernel_20888\\918708202.py:36: SettingWithCopyWarning: \n",
      "A value is trying to be set on a copy of a slice from a DataFrame.\n",
      "Try using .loc[row_indexer,col_indexer] = value instead\n",
      "\n",
      "See the caveats in the documentation: https://pandas.pydata.org/pandas-docs/stable/user_guide/indexing.html#returning-a-view-versus-a-copy\n",
      "  df2_id[identifier] = df2_id[identifier].astype(str)\n"
     ]
    },
    {
     "name": "stdout",
     "output_type": "stream",
     "text": [
      "Processing identifier: ChEBI_ID\n"
     ]
    },
    {
     "name": "stderr",
     "output_type": "stream",
     "text": [
      "C:\\Users\\sebge\\AppData\\Local\\Temp\\ipykernel_20888\\918708202.py:35: SettingWithCopyWarning: \n",
      "A value is trying to be set on a copy of a slice from a DataFrame.\n",
      "Try using .loc[row_indexer,col_indexer] = value instead\n",
      "\n",
      "See the caveats in the documentation: https://pandas.pydata.org/pandas-docs/stable/user_guide/indexing.html#returning-a-view-versus-a-copy\n",
      "  df1_id[identifier] = df1_id[identifier].astype(str)\n",
      "C:\\Users\\sebge\\AppData\\Local\\Temp\\ipykernel_20888\\918708202.py:36: SettingWithCopyWarning: \n",
      "A value is trying to be set on a copy of a slice from a DataFrame.\n",
      "Try using .loc[row_indexer,col_indexer] = value instead\n",
      "\n",
      "See the caveats in the documentation: https://pandas.pydata.org/pandas-docs/stable/user_guide/indexing.html#returning-a-view-versus-a-copy\n",
      "  df2_id[identifier] = df2_id[identifier].astype(str)\n"
     ]
    },
    {
     "name": "stdout",
     "output_type": "stream",
     "text": [
      "Processing identifier: ChEMBL_ID\n"
     ]
    },
    {
     "name": "stderr",
     "output_type": "stream",
     "text": [
      "C:\\Users\\sebge\\AppData\\Local\\Temp\\ipykernel_20888\\918708202.py:35: SettingWithCopyWarning: \n",
      "A value is trying to be set on a copy of a slice from a DataFrame.\n",
      "Try using .loc[row_indexer,col_indexer] = value instead\n",
      "\n",
      "See the caveats in the documentation: https://pandas.pydata.org/pandas-docs/stable/user_guide/indexing.html#returning-a-view-versus-a-copy\n",
      "  df1_id[identifier] = df1_id[identifier].astype(str)\n",
      "C:\\Users\\sebge\\AppData\\Local\\Temp\\ipykernel_20888\\918708202.py:36: SettingWithCopyWarning: \n",
      "A value is trying to be set on a copy of a slice from a DataFrame.\n",
      "Try using .loc[row_indexer,col_indexer] = value instead\n",
      "\n",
      "See the caveats in the documentation: https://pandas.pydata.org/pandas-docs/stable/user_guide/indexing.html#returning-a-view-versus-a-copy\n",
      "  df2_id[identifier] = df2_id[identifier].astype(str)\n"
     ]
    },
    {
     "name": "stdout",
     "output_type": "stream",
     "text": [
      "Processing identifier: BindingDB_ID\n"
     ]
    },
    {
     "name": "stderr",
     "output_type": "stream",
     "text": [
      "C:\\Users\\sebge\\AppData\\Local\\Temp\\ipykernel_20888\\918708202.py:36: SettingWithCopyWarning: \n",
      "A value is trying to be set on a copy of a slice from a DataFrame.\n",
      "Try using .loc[row_indexer,col_indexer] = value instead\n",
      "\n",
      "See the caveats in the documentation: https://pandas.pydata.org/pandas-docs/stable/user_guide/indexing.html#returning-a-view-versus-a-copy\n",
      "  df2_id[identifier] = df2_id[identifier].astype(str)\n"
     ]
    },
    {
     "name": "stdout",
     "output_type": "stream",
     "text": [
      "Processing identifier: SMILES\n"
     ]
    },
    {
     "name": "stderr",
     "output_type": "stream",
     "text": [
      "C:\\Users\\sebge\\AppData\\Local\\Temp\\ipykernel_20888\\918708202.py:36: SettingWithCopyWarning: \n",
      "A value is trying to be set on a copy of a slice from a DataFrame.\n",
      "Try using .loc[row_indexer,col_indexer] = value instead\n",
      "\n",
      "See the caveats in the documentation: https://pandas.pydata.org/pandas-docs/stable/user_guide/indexing.html#returning-a-view-versus-a-copy\n",
      "  df2_id[identifier] = df2_id[identifier].astype(str)\n"
     ]
    },
    {
     "name": "stdout",
     "output_type": "stream",
     "text": [
      "Processing identifier: InChI_Key\n"
     ]
    },
    {
     "name": "stderr",
     "output_type": "stream",
     "text": [
      "C:\\Users\\sebge\\AppData\\Local\\Temp\\ipykernel_20888\\918708202.py:35: SettingWithCopyWarning: \n",
      "A value is trying to be set on a copy of a slice from a DataFrame.\n",
      "Try using .loc[row_indexer,col_indexer] = value instead\n",
      "\n",
      "See the caveats in the documentation: https://pandas.pydata.org/pandas-docs/stable/user_guide/indexing.html#returning-a-view-versus-a-copy\n",
      "  df1_id[identifier] = df1_id[identifier].astype(str)\n",
      "C:\\Users\\sebge\\AppData\\Local\\Temp\\ipykernel_20888\\918708202.py:36: SettingWithCopyWarning: \n",
      "A value is trying to be set on a copy of a slice from a DataFrame.\n",
      "Try using .loc[row_indexer,col_indexer] = value instead\n",
      "\n",
      "See the caveats in the documentation: https://pandas.pydata.org/pandas-docs/stable/user_guide/indexing.html#returning-a-view-versus-a-copy\n",
      "  df2_id[identifier] = df2_id[identifier].astype(str)\n"
     ]
    }
   ],
   "source": [
    "import pandas as pd\n",
    "import os\n",
    "import gc\n",
    "\n",
    "# Ensure the output file does not exist from previous runs\n",
    "output_file = 'intermediate_results.csv'\n",
    "if os.path.exists(output_file):\n",
    "    os.remove(output_file)\n",
    "\n",
    "# List of identifiers to merge on\n",
    "identifier_columns = [\n",
    "    'PubChem_CID',\n",
    "    'PubChem_SID',\n",
    "    'ChEBI_ID',\n",
    "    'ChEMBL_ID',\n",
    "    'DrugBank_ID',\n",
    "    'BindingDB_ID',\n",
    "    'ZINC_ID',\n",
    "    'SMILES',\n",
    "    'InChI',\n",
    "    'InChI_Key'\n",
    "]\n",
    "\n",
    "# Function to process and merge on each identifier individually\n",
    "def merge_on_identifiers(df1, df2, identifiers, output_file):\n",
    "    for identifier in identifiers:\n",
    "        if identifier in df1.columns and identifier in df2.columns:\n",
    "            print(f\"Processing identifier: {identifier}\")\n",
    "            \n",
    "            # Drop rows with NaN in the identifier columns\n",
    "            df1_id = df1.dropna(subset=[identifier])\n",
    "            df2_id = df2.dropna(subset=[identifier])\n",
    "            \n",
    "            # Convert identifier columns to string to avoid type mismatches\n",
    "            df1_id[identifier] = df1_id[identifier].astype(str)\n",
    "            df2_id[identifier] = df2_id[identifier].astype(str)\n",
    "            \n",
    "            # Perform the merge\n",
    "            merged_df = pd.merge(\n",
    "                df1_id, df2_id, \n",
    "                on=identifier, \n",
    "                how='inner', \n",
    "                suffixes=('_BindingDB', '_DrugBank')\n",
    "            )\n",
    "            \n",
    "            if not merged_df.empty:\n",
    "                # Add a column to indicate which identifier was matched\n",
    "                merged_df['Matched_On'] = identifier\n",
    "                \n",
    "                # Write to CSV in append mode\n",
    "                merged_df.to_csv(\n",
    "                    output_file, \n",
    "                    mode='a', \n",
    "                    index=False, \n",
    "                    header=not os.path.exists(output_file)\n",
    "                )\n",
    "            \n",
    "            # Clean up memory\n",
    "            del df1_id, df2_id, merged_df\n",
    "            gc.collect()\n",
    "\n",
    "# Rename columns in BindingDB to unify naming conventions\n",
    "BindingDB = filtered_df.rename(columns={\n",
    "    'PubChem CID': 'PubChem_CID',\n",
    "    'ChEBI ID of Ligand': 'ChEBI_ID',\n",
    "    'ChEMBL ID of Ligand': 'ChEMBL_ID',\n",
    "    'DrugBank ID of Ligand': 'DrugBank_ID',\n",
    "    'KEGG ID of Ligand': 'KEGG_ID',\n",
    "    'ZINC ID of Ligand': 'ZINC_ID',\n",
    "    'Ligand SMILES': 'SMILES',\n",
    "    'Ligand InChI Key': 'InChI_Key',\n",
    "    'BindingDB MonomerID': 'BindingDB_ID',\n",
    "})\n",
    "\n",
    "# Rename columns in DrugBank to unify naming conventions\n",
    "DrugBank = drugbank.rename(columns={\n",
    "    'chebi': 'ChEBI_ID',\n",
    "    'chembl': 'ChEMBL_ID',\n",
    "    'pubchem': 'PubChem_CID',\n",
    "    'PubChem Substance': 'PubChem_SID',\n",
    "    'DrugBank IDs': 'DrugBank_ID',\n",
    "    'bindingdb': 'BindingDB_ID',\n",
    "    'ZINC': 'ZINC_ID',\n",
    "    'SMILES': 'SMILES',\n",
    "    'InChI': 'InChI_Key',\n",
    "    'KEGG Compound': 'KEGG_ID'\n",
    "})\n",
    "\n",
    "BindingDB['Unique_ID'] = np.arange(len(BindingDB))\n",
    "\n",
    "# Perform the merge\n",
    "merge_on_identifiers(BindingDB, DrugBank, identifier_columns, output_file)\n"
   ]
  },
  {
   "cell_type": "code",
   "execution_count": 43,
   "metadata": {},
   "outputs": [
    {
     "name": "stderr",
     "output_type": "stream",
     "text": [
      "C:\\Users\\sebge\\AppData\\Local\\Temp\\ipykernel_20888\\3797673924.py:1: DtypeWarning: Columns (15,17,20,21,45,46,47,48,50,51,52,53,54,55,57,58,59,62,63,64,65,66,67,69,70,71,74,75,76,77,78,79,86,87,88,89,90,91,98,99,100,101,102,103,105,106,107,110,111,112,113,114,115,122,123,124,125,126,127,129,130,131,134,135,136,137,138,139,146,147,148,149,150,151,158,159,160,161,162,163,170,171,172,173,174,175,182,183,184,185,186,187,205,208) have mixed types. Specify dtype option on import or set low_memory=False.\n",
      "  merged_df = pd.read_csv(output_file)\n"
     ]
    }
   ],
   "source": [
    "merged_df = pd.read_csv(output_file)"
   ]
  },
  {
   "cell_type": "code",
   "execution_count": 44,
   "metadata": {},
   "outputs": [
    {
     "data": {
      "text/plain": [
       "Matched_On\n",
       "InChI_Key      147426\n",
       "ChEMBL_ID       96639\n",
       "ChEBI_ID        74904\n",
       "SMILES           6191\n",
       "PubChem_CID         9\n",
       "Name: count, dtype: int64"
      ]
     },
     "execution_count": 44,
     "metadata": {},
     "output_type": "execute_result"
    }
   ],
   "source": [
    "merged_df['Matched_On'].value_counts()"
   ]
  },
  {
   "cell_type": "code",
   "execution_count": 45,
   "metadata": {},
   "outputs": [
    {
     "data": {
      "text/plain": [
       "325169"
      ]
     },
     "execution_count": 45,
     "metadata": {},
     "output_type": "execute_result"
    }
   ],
   "source": [
    "len(merged_df)"
   ]
  },
  {
   "cell_type": "code",
   "execution_count": 48,
   "metadata": {},
   "outputs": [
    {
     "data": {
      "text/plain": [
       "150783"
      ]
     },
     "execution_count": 48,
     "metadata": {},
     "output_type": "execute_result"
    }
   ],
   "source": [
    "merged_df['Unique_ID'].nunique()"
   ]
  },
  {
   "cell_type": "code",
   "execution_count": 49,
   "metadata": {},
   "outputs": [],
   "source": [
    "merged_df.drop_duplicates(subset=['Unique_ID'], inplace=True)"
   ]
  },
  {
   "cell_type": "code",
   "execution_count": 54,
   "metadata": {},
   "outputs": [],
   "source": [
    "merged_df.to_csv('Merged Binding DrugBank.csv', index=False)\n",
    "if os.path.exists(output_file):\n",
    "    os.remove(output_file)"
   ]
  },
  {
   "cell_type": "code",
   "execution_count": null,
   "metadata": {},
   "outputs": [],
   "source": []
  }
 ],
 "metadata": {
  "kernelspec": {
   "display_name": "ada",
   "language": "python",
   "name": "python3"
  },
  "language_info": {
   "codemirror_mode": {
    "name": "ipython",
    "version": 3
   },
   "file_extension": ".py",
   "mimetype": "text/x-python",
   "name": "python",
   "nbconvert_exporter": "python",
   "pygments_lexer": "ipython3",
   "version": "3.11.9"
  }
 },
 "nbformat": 4,
 "nbformat_minor": 2
}
