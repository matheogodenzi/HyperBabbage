{
 "cells": [
  {
   "cell_type": "markdown",
   "metadata": {},
   "source": [
    "# Parse the DrugBank XML and export as CSV"
   ]
  },
  {
   "cell_type": "code",
   "execution_count": 1,
   "metadata": {
    "collapsed": true
   },
   "outputs": [],
   "source": [
    "from tqdm import tqdm\n",
    "import pandas as pd\n",
    "from lxml import etree"
   ]
  },
  {
   "cell_type": "code",
   "execution_count": 2,
   "metadata": {},
   "outputs": [],
   "source": [
    "# Create a parser\n",
    "parser = etree.XMLParser(recover=True)\n",
    "\n",
    "parsed_file = etree.parse('full database.xml', parser=parser)"
   ]
  },
  {
   "cell_type": "code",
   "execution_count": 3,
   "metadata": {},
   "outputs": [],
   "source": [
    "root = parsed_file.getroot()\n",
    "drugs = list(root)"
   ]
  },
  {
   "cell_type": "markdown",
   "metadata": {},
   "source": [
    "### Testing the XML parsing"
   ]
  },
  {
   "cell_type": "code",
   "execution_count": 10,
   "metadata": {},
   "outputs": [
    {
     "name": "stderr",
     "output_type": "stream",
     "text": [
      "100%|██████████| 16581/16581 [00:01<00:00, 8548.71it/s] \n"
     ]
    }
   ],
   "source": [
    "proteins = []\n",
    "\n",
    "for drug in tqdm(drugs):\n",
    "    for i in drug:\n",
    "        if 'targets' in str(i): # drug's categories\n",
    "            target_features = list(i)\n",
    "            for features in target_features:\n",
    "                for feature in features:\n",
    "                    if 'polypeptide' in str(feature):\n",
    "                        proteins_attributes = {}\n",
    "                        proteins_attributes['id'] = feature.get('id')\n",
    "                        for attribute in list(feature):\n",
    "                            if 'name' in str(attribute):\n",
    "                                proteins_attributes['name'] = attribute.text\n",
    "                            if 'general-function' in str(attribute):\n",
    "                                proteins_attributes['general-function'] = attribute.text\n",
    "                            if 'specific-function' in str(attribute):\n",
    "                                proteins_attributes['specific-function'] = attribute.text\n",
    "                            if 'organism' in str(attribute):\n",
    "                                proteins_attributes['organism'] = attribute.text\n",
    "\n",
    "                        proteins.append(proteins_attributes)"
   ]
  },
  {
   "cell_type": "markdown",
   "metadata": {},
   "source": [
    "### Parsing"
   ]
  },
  {
   "cell_type": "code",
   "execution_count": 11,
   "metadata": {},
   "outputs": [],
   "source": [
    "df = pd.DataFrame(proteins)"
   ]
  },
  {
   "cell_type": "code",
   "execution_count": 12,
   "metadata": {},
   "outputs": [
    {
     "data": {
      "text/html": [
       "<div>\n",
       "<style scoped>\n",
       "    .dataframe tbody tr th:only-of-type {\n",
       "        vertical-align: middle;\n",
       "    }\n",
       "\n",
       "    .dataframe tbody tr th {\n",
       "        vertical-align: top;\n",
       "    }\n",
       "\n",
       "    .dataframe thead th {\n",
       "        text-align: right;\n",
       "    }\n",
       "</style>\n",
       "<table border=\"1\" class=\"dataframe\">\n",
       "  <thead>\n",
       "    <tr style=\"text-align: right;\">\n",
       "      <th></th>\n",
       "      <th>id</th>\n",
       "      <th>name</th>\n",
       "      <th>general-function</th>\n",
       "      <th>specific-function</th>\n",
       "      <th>organism</th>\n",
       "    </tr>\n",
       "  </thead>\n",
       "  <tbody>\n",
       "    <tr>\n",
       "      <th>0</th>\n",
       "      <td>P00734</td>\n",
       "      <td>F2</td>\n",
       "      <td>Thrombospondin receptor activity</td>\n",
       "      <td>Thrombin, which cleaves bonds after Arg and Ly...</td>\n",
       "      <td>Humans</td>\n",
       "    </tr>\n",
       "    <tr>\n",
       "      <th>1</th>\n",
       "      <td>P00533</td>\n",
       "      <td>EGFR</td>\n",
       "      <td>Ubiquitin protein ligase binding</td>\n",
       "      <td>Receptor tyrosine kinase binding ligands of th...</td>\n",
       "      <td>Humans</td>\n",
       "    </tr>\n",
       "    <tr>\n",
       "      <th>2</th>\n",
       "      <td>O75015</td>\n",
       "      <td>FCGR3B</td>\n",
       "      <td>None</td>\n",
       "      <td>Receptor for the Fc region of immunoglobulins ...</td>\n",
       "      <td>Humans</td>\n",
       "    </tr>\n",
       "  </tbody>\n",
       "</table>\n",
       "</div>"
      ],
      "text/plain": [
       "       id    name                  general-function  \\\n",
       "0  P00734      F2  Thrombospondin receptor activity   \n",
       "1  P00533    EGFR  Ubiquitin protein ligase binding   \n",
       "2  O75015  FCGR3B                              None   \n",
       "\n",
       "                                   specific-function organism  \n",
       "0  Thrombin, which cleaves bonds after Arg and Ly...   Humans  \n",
       "1  Receptor tyrosine kinase binding ligands of th...   Humans  \n",
       "2  Receptor for the Fc region of immunoglobulins ...   Humans  "
      ]
     },
     "execution_count": 12,
     "metadata": {},
     "output_type": "execute_result"
    }
   ],
   "source": [
    "df.head(3)"
   ]
  },
  {
   "cell_type": "code",
   "execution_count": 19,
   "metadata": {},
   "outputs": [
    {
     "data": {
      "text/plain": [
       "(22414, 4906)"
      ]
     },
     "execution_count": 19,
     "metadata": {},
     "output_type": "execute_result"
    }
   ],
   "source": [
    "len(df), len(df['id'].unique())"
   ]
  },
  {
   "cell_type": "code",
   "execution_count": 20,
   "metadata": {},
   "outputs": [
    {
     "data": {
      "text/plain": [
       "id\n",
       "P14867    163\n",
       "P34903    144\n",
       "P47869    144\n",
       "P31644    142\n",
       "P24941    136\n",
       "         ... \n",
       "P34024      1\n",
       "P52045      1\n",
       "Q92876      1\n",
       "P00775      1\n",
       "E0W492      1\n",
       "Name: count, Length: 4906, dtype: int64"
      ]
     },
     "execution_count": 20,
     "metadata": {},
     "output_type": "execute_result"
    }
   ],
   "source": [
    "df['id'].value_counts()"
   ]
  },
  {
   "cell_type": "code",
   "execution_count": 21,
   "metadata": {},
   "outputs": [],
   "source": [
    "df.drop_duplicates(subset='id', inplace=True)"
   ]
  },
  {
   "cell_type": "code",
   "execution_count": 22,
   "metadata": {},
   "outputs": [],
   "source": [
    "df.to_csv('data/parsed_proteins_DrugBank.csv', index=False, encoding='utf-8')"
   ]
  },
  {
   "cell_type": "code",
   "execution_count": null,
   "metadata": {},
   "outputs": [],
   "source": []
  }
 ],
 "metadata": {
  "anaconda-cloud": {},
  "kernelspec": {
   "display_name": "Python [default]",
   "language": "python",
   "name": "python3"
  },
  "language_info": {
   "codemirror_mode": {
    "name": "ipython",
    "version": 3
   },
   "file_extension": ".py",
   "mimetype": "text/x-python",
   "name": "python",
   "nbconvert_exporter": "python",
   "pygments_lexer": "ipython3",
   "version": "3.11.9"
  }
 },
 "nbformat": 4,
 "nbformat_minor": 0
}
